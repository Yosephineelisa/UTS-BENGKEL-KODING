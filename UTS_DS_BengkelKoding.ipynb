{
  "nbformat": 4,
  "nbformat_minor": 0,
  "metadata": {
    "colab": {
      "provenance": []
    },
    "kernelspec": {
      "name": "python3",
      "display_name": "Python 3"
    },
    "language_info": {
      "name": "python"
    }
  },
  "cells": [
    {
      "cell_type": "markdown",
      "source": [
        "# **PREDIKSI CUACA**"
      ],
      "metadata": {
        "id": "pRjsbSMp3zuk"
      }
    },
    {
      "cell_type": "markdown",
      "source": [
        "Dalam project ini kita akan melakukan prediksi cuaca dengan dataset **seattle-weather**.\n",
        "\n",
        "Link **dataset**:\n",
        "https://drive.google.com/file/d/1IIyYZEQReb4VavO_piu3qQeGK6VcwGJm/view?usp=sharing"
      ],
      "metadata": {
        "id": "MB7LcSvg4Z4L"
      }
    },
    {
      "cell_type": "markdown",
      "source": [
        "## **Data Preprocessing**"
      ],
      "metadata": {
        "id": "IVOat-tA95ls"
      }
    },
    {
      "cell_type": "markdown",
      "source": [
        "1. Isi _code-cell_ dibawah dengan kode untuk:\n",
        "    - **membaca dataset** _seattle-weather_\n",
        "    - **menampilkan 15** baris data teratas\n",
        "\n"
      ],
      "metadata": {
        "id": "8JnuYTZL5II-"
      }
    },
    {
      "cell_type": "code",
      "execution_count": null,
      "metadata": {
        "id": "HNS4PAx5zhH0"
      },
      "outputs": [],
      "source": [
        "import pandas as pd"
      ]
    },
    {
      "cell_type": "code",
      "source": [
        "df = pd.read_csv('/content/seattle-weather.csv')"
      ],
      "metadata": {
        "id": "3LBSJLTDJhEX"
      },
      "execution_count": null,
      "outputs": []
    },
    {
      "cell_type": "code",
      "source": [
        "# 15 baris pertama\n",
        "df.head(15)"
      ],
      "metadata": {
        "id": "wVu7LoNrJjBP",
        "colab": {
          "base_uri": "https://localhost:8080/",
          "height": 519
        },
        "outputId": "d79338a5-84a2-4879-e4fb-80c0121e56c2"
      },
      "execution_count": null,
      "outputs": [
        {
          "output_type": "execute_result",
          "data": {
            "text/plain": [
              "          date  precipitation  temp_max  temp_min  wind  weather\n",
              "0   2012-01-01            0.0      12.8       5.0   4.7  drizzle\n",
              "1   2012-01-02           10.9      10.6       2.8   4.5     rain\n",
              "2   2012-01-03            0.8      11.7       7.2   2.3     rain\n",
              "3   2012-01-04           20.3      12.2       5.6   4.7     rain\n",
              "4   2012-01-05            1.3       8.9       2.8   6.1     rain\n",
              "5   2012-01-06            2.5       4.4       2.2   2.2     rain\n",
              "6   2012-01-07            0.0       7.2       2.8   2.3     rain\n",
              "7   2012-01-08            0.0      10.0       2.8   2.0      sun\n",
              "8   2012-01-09            4.3       9.4       5.0   3.4     rain\n",
              "9   2012-01-10            1.0       6.1       0.6   3.4     rain\n",
              "10  2012-01-11            0.0       6.1      -1.1   5.1      sun\n",
              "11  2012-01-12            0.0       6.1      -1.7   1.9      sun\n",
              "12  2012-01-13            0.0       5.0      -2.8   1.3      sun\n",
              "13  2012-01-14            4.1       4.4       0.6   5.3     snow\n",
              "14  2012-01-15            5.3       1.1      -3.3   3.2     snow"
            ],
            "text/html": [
              "\n",
              "  <div id=\"df-5c1cc77d-5563-4333-87ad-4e897280868e\" class=\"colab-df-container\">\n",
              "    <div>\n",
              "<style scoped>\n",
              "    .dataframe tbody tr th:only-of-type {\n",
              "        vertical-align: middle;\n",
              "    }\n",
              "\n",
              "    .dataframe tbody tr th {\n",
              "        vertical-align: top;\n",
              "    }\n",
              "\n",
              "    .dataframe thead th {\n",
              "        text-align: right;\n",
              "    }\n",
              "</style>\n",
              "<table border=\"1\" class=\"dataframe\">\n",
              "  <thead>\n",
              "    <tr style=\"text-align: right;\">\n",
              "      <th></th>\n",
              "      <th>date</th>\n",
              "      <th>precipitation</th>\n",
              "      <th>temp_max</th>\n",
              "      <th>temp_min</th>\n",
              "      <th>wind</th>\n",
              "      <th>weather</th>\n",
              "    </tr>\n",
              "  </thead>\n",
              "  <tbody>\n",
              "    <tr>\n",
              "      <th>0</th>\n",
              "      <td>2012-01-01</td>\n",
              "      <td>0.0</td>\n",
              "      <td>12.8</td>\n",
              "      <td>5.0</td>\n",
              "      <td>4.7</td>\n",
              "      <td>drizzle</td>\n",
              "    </tr>\n",
              "    <tr>\n",
              "      <th>1</th>\n",
              "      <td>2012-01-02</td>\n",
              "      <td>10.9</td>\n",
              "      <td>10.6</td>\n",
              "      <td>2.8</td>\n",
              "      <td>4.5</td>\n",
              "      <td>rain</td>\n",
              "    </tr>\n",
              "    <tr>\n",
              "      <th>2</th>\n",
              "      <td>2012-01-03</td>\n",
              "      <td>0.8</td>\n",
              "      <td>11.7</td>\n",
              "      <td>7.2</td>\n",
              "      <td>2.3</td>\n",
              "      <td>rain</td>\n",
              "    </tr>\n",
              "    <tr>\n",
              "      <th>3</th>\n",
              "      <td>2012-01-04</td>\n",
              "      <td>20.3</td>\n",
              "      <td>12.2</td>\n",
              "      <td>5.6</td>\n",
              "      <td>4.7</td>\n",
              "      <td>rain</td>\n",
              "    </tr>\n",
              "    <tr>\n",
              "      <th>4</th>\n",
              "      <td>2012-01-05</td>\n",
              "      <td>1.3</td>\n",
              "      <td>8.9</td>\n",
              "      <td>2.8</td>\n",
              "      <td>6.1</td>\n",
              "      <td>rain</td>\n",
              "    </tr>\n",
              "    <tr>\n",
              "      <th>5</th>\n",
              "      <td>2012-01-06</td>\n",
              "      <td>2.5</td>\n",
              "      <td>4.4</td>\n",
              "      <td>2.2</td>\n",
              "      <td>2.2</td>\n",
              "      <td>rain</td>\n",
              "    </tr>\n",
              "    <tr>\n",
              "      <th>6</th>\n",
              "      <td>2012-01-07</td>\n",
              "      <td>0.0</td>\n",
              "      <td>7.2</td>\n",
              "      <td>2.8</td>\n",
              "      <td>2.3</td>\n",
              "      <td>rain</td>\n",
              "    </tr>\n",
              "    <tr>\n",
              "      <th>7</th>\n",
              "      <td>2012-01-08</td>\n",
              "      <td>0.0</td>\n",
              "      <td>10.0</td>\n",
              "      <td>2.8</td>\n",
              "      <td>2.0</td>\n",
              "      <td>sun</td>\n",
              "    </tr>\n",
              "    <tr>\n",
              "      <th>8</th>\n",
              "      <td>2012-01-09</td>\n",
              "      <td>4.3</td>\n",
              "      <td>9.4</td>\n",
              "      <td>5.0</td>\n",
              "      <td>3.4</td>\n",
              "      <td>rain</td>\n",
              "    </tr>\n",
              "    <tr>\n",
              "      <th>9</th>\n",
              "      <td>2012-01-10</td>\n",
              "      <td>1.0</td>\n",
              "      <td>6.1</td>\n",
              "      <td>0.6</td>\n",
              "      <td>3.4</td>\n",
              "      <td>rain</td>\n",
              "    </tr>\n",
              "    <tr>\n",
              "      <th>10</th>\n",
              "      <td>2012-01-11</td>\n",
              "      <td>0.0</td>\n",
              "      <td>6.1</td>\n",
              "      <td>-1.1</td>\n",
              "      <td>5.1</td>\n",
              "      <td>sun</td>\n",
              "    </tr>\n",
              "    <tr>\n",
              "      <th>11</th>\n",
              "      <td>2012-01-12</td>\n",
              "      <td>0.0</td>\n",
              "      <td>6.1</td>\n",
              "      <td>-1.7</td>\n",
              "      <td>1.9</td>\n",
              "      <td>sun</td>\n",
              "    </tr>\n",
              "    <tr>\n",
              "      <th>12</th>\n",
              "      <td>2012-01-13</td>\n",
              "      <td>0.0</td>\n",
              "      <td>5.0</td>\n",
              "      <td>-2.8</td>\n",
              "      <td>1.3</td>\n",
              "      <td>sun</td>\n",
              "    </tr>\n",
              "    <tr>\n",
              "      <th>13</th>\n",
              "      <td>2012-01-14</td>\n",
              "      <td>4.1</td>\n",
              "      <td>4.4</td>\n",
              "      <td>0.6</td>\n",
              "      <td>5.3</td>\n",
              "      <td>snow</td>\n",
              "    </tr>\n",
              "    <tr>\n",
              "      <th>14</th>\n",
              "      <td>2012-01-15</td>\n",
              "      <td>5.3</td>\n",
              "      <td>1.1</td>\n",
              "      <td>-3.3</td>\n",
              "      <td>3.2</td>\n",
              "      <td>snow</td>\n",
              "    </tr>\n",
              "  </tbody>\n",
              "</table>\n",
              "</div>\n",
              "    <div class=\"colab-df-buttons\">\n",
              "\n",
              "  <div class=\"colab-df-container\">\n",
              "    <button class=\"colab-df-convert\" onclick=\"convertToInteractive('df-5c1cc77d-5563-4333-87ad-4e897280868e')\"\n",
              "            title=\"Convert this dataframe to an interactive table.\"\n",
              "            style=\"display:none;\">\n",
              "\n",
              "  <svg xmlns=\"http://www.w3.org/2000/svg\" height=\"24px\" viewBox=\"0 -960 960 960\">\n",
              "    <path d=\"M120-120v-720h720v720H120Zm60-500h600v-160H180v160Zm220 220h160v-160H400v160Zm0 220h160v-160H400v160ZM180-400h160v-160H180v160Zm440 0h160v-160H620v160ZM180-180h160v-160H180v160Zm440 0h160v-160H620v160Z\"/>\n",
              "  </svg>\n",
              "    </button>\n",
              "\n",
              "  <style>\n",
              "    .colab-df-container {\n",
              "      display:flex;\n",
              "      gap: 12px;\n",
              "    }\n",
              "\n",
              "    .colab-df-convert {\n",
              "      background-color: #E8F0FE;\n",
              "      border: none;\n",
              "      border-radius: 50%;\n",
              "      cursor: pointer;\n",
              "      display: none;\n",
              "      fill: #1967D2;\n",
              "      height: 32px;\n",
              "      padding: 0 0 0 0;\n",
              "      width: 32px;\n",
              "    }\n",
              "\n",
              "    .colab-df-convert:hover {\n",
              "      background-color: #E2EBFA;\n",
              "      box-shadow: 0px 1px 2px rgba(60, 64, 67, 0.3), 0px 1px 3px 1px rgba(60, 64, 67, 0.15);\n",
              "      fill: #174EA6;\n",
              "    }\n",
              "\n",
              "    .colab-df-buttons div {\n",
              "      margin-bottom: 4px;\n",
              "    }\n",
              "\n",
              "    [theme=dark] .colab-df-convert {\n",
              "      background-color: #3B4455;\n",
              "      fill: #D2E3FC;\n",
              "    }\n",
              "\n",
              "    [theme=dark] .colab-df-convert:hover {\n",
              "      background-color: #434B5C;\n",
              "      box-shadow: 0px 1px 3px 1px rgba(0, 0, 0, 0.15);\n",
              "      filter: drop-shadow(0px 1px 2px rgba(0, 0, 0, 0.3));\n",
              "      fill: #FFFFFF;\n",
              "    }\n",
              "  </style>\n",
              "\n",
              "    <script>\n",
              "      const buttonEl =\n",
              "        document.querySelector('#df-5c1cc77d-5563-4333-87ad-4e897280868e button.colab-df-convert');\n",
              "      buttonEl.style.display =\n",
              "        google.colab.kernel.accessAllowed ? 'block' : 'none';\n",
              "\n",
              "      async function convertToInteractive(key) {\n",
              "        const element = document.querySelector('#df-5c1cc77d-5563-4333-87ad-4e897280868e');\n",
              "        const dataTable =\n",
              "          await google.colab.kernel.invokeFunction('convertToInteractive',\n",
              "                                                    [key], {});\n",
              "        if (!dataTable) return;\n",
              "\n",
              "        const docLinkHtml = 'Like what you see? Visit the ' +\n",
              "          '<a target=\"_blank\" href=https://colab.research.google.com/notebooks/data_table.ipynb>data table notebook</a>'\n",
              "          + ' to learn more about interactive tables.';\n",
              "        element.innerHTML = '';\n",
              "        dataTable['output_type'] = 'display_data';\n",
              "        await google.colab.output.renderOutput(dataTable, element);\n",
              "        const docLink = document.createElement('div');\n",
              "        docLink.innerHTML = docLinkHtml;\n",
              "        element.appendChild(docLink);\n",
              "      }\n",
              "    </script>\n",
              "  </div>\n",
              "\n",
              "\n",
              "<div id=\"df-cd8d20f7-bb0c-4e49-888d-f06a034cf364\">\n",
              "  <button class=\"colab-df-quickchart\" onclick=\"quickchart('df-cd8d20f7-bb0c-4e49-888d-f06a034cf364')\"\n",
              "            title=\"Suggest charts\"\n",
              "            style=\"display:none;\">\n",
              "\n",
              "<svg xmlns=\"http://www.w3.org/2000/svg\" height=\"24px\"viewBox=\"0 0 24 24\"\n",
              "     width=\"24px\">\n",
              "    <g>\n",
              "        <path d=\"M19 3H5c-1.1 0-2 .9-2 2v14c0 1.1.9 2 2 2h14c1.1 0 2-.9 2-2V5c0-1.1-.9-2-2-2zM9 17H7v-7h2v7zm4 0h-2V7h2v10zm4 0h-2v-4h2v4z\"/>\n",
              "    </g>\n",
              "</svg>\n",
              "  </button>\n",
              "\n",
              "<style>\n",
              "  .colab-df-quickchart {\n",
              "      --bg-color: #E8F0FE;\n",
              "      --fill-color: #1967D2;\n",
              "      --hover-bg-color: #E2EBFA;\n",
              "      --hover-fill-color: #174EA6;\n",
              "      --disabled-fill-color: #AAA;\n",
              "      --disabled-bg-color: #DDD;\n",
              "  }\n",
              "\n",
              "  [theme=dark] .colab-df-quickchart {\n",
              "      --bg-color: #3B4455;\n",
              "      --fill-color: #D2E3FC;\n",
              "      --hover-bg-color: #434B5C;\n",
              "      --hover-fill-color: #FFFFFF;\n",
              "      --disabled-bg-color: #3B4455;\n",
              "      --disabled-fill-color: #666;\n",
              "  }\n",
              "\n",
              "  .colab-df-quickchart {\n",
              "    background-color: var(--bg-color);\n",
              "    border: none;\n",
              "    border-radius: 50%;\n",
              "    cursor: pointer;\n",
              "    display: none;\n",
              "    fill: var(--fill-color);\n",
              "    height: 32px;\n",
              "    padding: 0;\n",
              "    width: 32px;\n",
              "  }\n",
              "\n",
              "  .colab-df-quickchart:hover {\n",
              "    background-color: var(--hover-bg-color);\n",
              "    box-shadow: 0 1px 2px rgba(60, 64, 67, 0.3), 0 1px 3px 1px rgba(60, 64, 67, 0.15);\n",
              "    fill: var(--button-hover-fill-color);\n",
              "  }\n",
              "\n",
              "  .colab-df-quickchart-complete:disabled,\n",
              "  .colab-df-quickchart-complete:disabled:hover {\n",
              "    background-color: var(--disabled-bg-color);\n",
              "    fill: var(--disabled-fill-color);\n",
              "    box-shadow: none;\n",
              "  }\n",
              "\n",
              "  .colab-df-spinner {\n",
              "    border: 2px solid var(--fill-color);\n",
              "    border-color: transparent;\n",
              "    border-bottom-color: var(--fill-color);\n",
              "    animation:\n",
              "      spin 1s steps(1) infinite;\n",
              "  }\n",
              "\n",
              "  @keyframes spin {\n",
              "    0% {\n",
              "      border-color: transparent;\n",
              "      border-bottom-color: var(--fill-color);\n",
              "      border-left-color: var(--fill-color);\n",
              "    }\n",
              "    20% {\n",
              "      border-color: transparent;\n",
              "      border-left-color: var(--fill-color);\n",
              "      border-top-color: var(--fill-color);\n",
              "    }\n",
              "    30% {\n",
              "      border-color: transparent;\n",
              "      border-left-color: var(--fill-color);\n",
              "      border-top-color: var(--fill-color);\n",
              "      border-right-color: var(--fill-color);\n",
              "    }\n",
              "    40% {\n",
              "      border-color: transparent;\n",
              "      border-right-color: var(--fill-color);\n",
              "      border-top-color: var(--fill-color);\n",
              "    }\n",
              "    60% {\n",
              "      border-color: transparent;\n",
              "      border-right-color: var(--fill-color);\n",
              "    }\n",
              "    80% {\n",
              "      border-color: transparent;\n",
              "      border-right-color: var(--fill-color);\n",
              "      border-bottom-color: var(--fill-color);\n",
              "    }\n",
              "    90% {\n",
              "      border-color: transparent;\n",
              "      border-bottom-color: var(--fill-color);\n",
              "    }\n",
              "  }\n",
              "</style>\n",
              "\n",
              "  <script>\n",
              "    async function quickchart(key) {\n",
              "      const quickchartButtonEl =\n",
              "        document.querySelector('#' + key + ' button');\n",
              "      quickchartButtonEl.disabled = true;  // To prevent multiple clicks.\n",
              "      quickchartButtonEl.classList.add('colab-df-spinner');\n",
              "      try {\n",
              "        const charts = await google.colab.kernel.invokeFunction(\n",
              "            'suggestCharts', [key], {});\n",
              "      } catch (error) {\n",
              "        console.error('Error during call to suggestCharts:', error);\n",
              "      }\n",
              "      quickchartButtonEl.classList.remove('colab-df-spinner');\n",
              "      quickchartButtonEl.classList.add('colab-df-quickchart-complete');\n",
              "    }\n",
              "    (() => {\n",
              "      let quickchartButtonEl =\n",
              "        document.querySelector('#df-cd8d20f7-bb0c-4e49-888d-f06a034cf364 button');\n",
              "      quickchartButtonEl.style.display =\n",
              "        google.colab.kernel.accessAllowed ? 'block' : 'none';\n",
              "    })();\n",
              "  </script>\n",
              "</div>\n",
              "    </div>\n",
              "  </div>\n"
            ]
          },
          "metadata": {},
          "execution_count": 3
        }
      ]
    },
    {
      "cell_type": "markdown",
      "source": [
        "2. Munculkan **informasi** dataset dan lakukan **cleaning data** yang dibutuhkan:\n",
        "    - mengecek dan menghapus **nilai kosong**\n",
        "    - menghapus (**_drop_**) kolom _\"date\"_\n",
        "    - mengecek dan menghapus data yang memiliki **nilai duplikat**"
      ],
      "metadata": {
        "id": "v1T_U2dC_JxU"
      }
    },
    {
      "cell_type": "code",
      "source": [
        "# untuk menampilkan informasi dataset\n",
        "print(df.info())"
      ],
      "metadata": {
        "id": "PAlj5pjO0PS7",
        "colab": {
          "base_uri": "https://localhost:8080/"
        },
        "outputId": "20390208-58cc-4877-dabb-ab843885ef60"
      },
      "execution_count": null,
      "outputs": [
        {
          "output_type": "stream",
          "name": "stdout",
          "text": [
            "<class 'pandas.core.frame.DataFrame'>\n",
            "RangeIndex: 1461 entries, 0 to 1460\n",
            "Data columns (total 6 columns):\n",
            " #   Column         Non-Null Count  Dtype  \n",
            "---  ------         --------------  -----  \n",
            " 0   date           1461 non-null   object \n",
            " 1   precipitation  1461 non-null   float64\n",
            " 2   temp_max       1461 non-null   float64\n",
            " 3   temp_min       1461 non-null   float64\n",
            " 4   wind           1461 non-null   float64\n",
            " 5   weather        1461 non-null   object \n",
            "dtypes: float64(4), object(2)\n",
            "memory usage: 68.6+ KB\n",
            "None\n"
          ]
        }
      ]
    },
    {
      "cell_type": "code",
      "source": [
        "#mengecek nilai kosong\n",
        "print(df.isnull().sum())"
      ],
      "metadata": {
        "id": "_NwHWmbi0S8L",
        "colab": {
          "base_uri": "https://localhost:8080/"
        },
        "outputId": "9db2b4b0-8f21-41b7-b812-fbff642bfcd2"
      },
      "execution_count": null,
      "outputs": [
        {
          "output_type": "stream",
          "name": "stdout",
          "text": [
            "date             0\n",
            "precipitation    0\n",
            "temp_max         0\n",
            "temp_min         0\n",
            "wind             0\n",
            "weather          0\n",
            "dtype: int64\n"
          ]
        }
      ]
    },
    {
      "cell_type": "code",
      "source": [
        "#menghapus nilai kosong\n",
        "df.dropna(inplace=True)"
      ],
      "metadata": {
        "id": "zVny-7sU-6-2"
      },
      "execution_count": null,
      "outputs": []
    },
    {
      "cell_type": "code",
      "source": [
        "#menghapus kolom 'date'\n",
        "df.drop(columns=['date'], inplace=True )"
      ],
      "metadata": {
        "id": "WNX1E6cJsmnc"
      },
      "execution_count": null,
      "outputs": []
    },
    {
      "cell_type": "code",
      "source": [
        "df.head(15)"
      ],
      "metadata": {
        "id": "8IU6kqKA0XeJ",
        "colab": {
          "base_uri": "https://localhost:8080/",
          "height": 519
        },
        "outputId": "251f5f28-0403-4041-be06-2c4a12d4c636"
      },
      "execution_count": null,
      "outputs": [
        {
          "output_type": "execute_result",
          "data": {
            "text/plain": [
              "    precipitation  temp_max  temp_min  wind  weather\n",
              "0             0.0      12.8       5.0   4.7  drizzle\n",
              "1            10.9      10.6       2.8   4.5     rain\n",
              "2             0.8      11.7       7.2   2.3     rain\n",
              "3            20.3      12.2       5.6   4.7     rain\n",
              "4             1.3       8.9       2.8   6.1     rain\n",
              "5             2.5       4.4       2.2   2.2     rain\n",
              "6             0.0       7.2       2.8   2.3     rain\n",
              "7             0.0      10.0       2.8   2.0      sun\n",
              "8             4.3       9.4       5.0   3.4     rain\n",
              "9             1.0       6.1       0.6   3.4     rain\n",
              "10            0.0       6.1      -1.1   5.1      sun\n",
              "11            0.0       6.1      -1.7   1.9      sun\n",
              "12            0.0       5.0      -2.8   1.3      sun\n",
              "13            4.1       4.4       0.6   5.3     snow\n",
              "14            5.3       1.1      -3.3   3.2     snow"
            ],
            "text/html": [
              "\n",
              "  <div id=\"df-0d941f4b-69ca-4a14-a060-67cbf4fafea9\" class=\"colab-df-container\">\n",
              "    <div>\n",
              "<style scoped>\n",
              "    .dataframe tbody tr th:only-of-type {\n",
              "        vertical-align: middle;\n",
              "    }\n",
              "\n",
              "    .dataframe tbody tr th {\n",
              "        vertical-align: top;\n",
              "    }\n",
              "\n",
              "    .dataframe thead th {\n",
              "        text-align: right;\n",
              "    }\n",
              "</style>\n",
              "<table border=\"1\" class=\"dataframe\">\n",
              "  <thead>\n",
              "    <tr style=\"text-align: right;\">\n",
              "      <th></th>\n",
              "      <th>precipitation</th>\n",
              "      <th>temp_max</th>\n",
              "      <th>temp_min</th>\n",
              "      <th>wind</th>\n",
              "      <th>weather</th>\n",
              "    </tr>\n",
              "  </thead>\n",
              "  <tbody>\n",
              "    <tr>\n",
              "      <th>0</th>\n",
              "      <td>0.0</td>\n",
              "      <td>12.8</td>\n",
              "      <td>5.0</td>\n",
              "      <td>4.7</td>\n",
              "      <td>drizzle</td>\n",
              "    </tr>\n",
              "    <tr>\n",
              "      <th>1</th>\n",
              "      <td>10.9</td>\n",
              "      <td>10.6</td>\n",
              "      <td>2.8</td>\n",
              "      <td>4.5</td>\n",
              "      <td>rain</td>\n",
              "    </tr>\n",
              "    <tr>\n",
              "      <th>2</th>\n",
              "      <td>0.8</td>\n",
              "      <td>11.7</td>\n",
              "      <td>7.2</td>\n",
              "      <td>2.3</td>\n",
              "      <td>rain</td>\n",
              "    </tr>\n",
              "    <tr>\n",
              "      <th>3</th>\n",
              "      <td>20.3</td>\n",
              "      <td>12.2</td>\n",
              "      <td>5.6</td>\n",
              "      <td>4.7</td>\n",
              "      <td>rain</td>\n",
              "    </tr>\n",
              "    <tr>\n",
              "      <th>4</th>\n",
              "      <td>1.3</td>\n",
              "      <td>8.9</td>\n",
              "      <td>2.8</td>\n",
              "      <td>6.1</td>\n",
              "      <td>rain</td>\n",
              "    </tr>\n",
              "    <tr>\n",
              "      <th>5</th>\n",
              "      <td>2.5</td>\n",
              "      <td>4.4</td>\n",
              "      <td>2.2</td>\n",
              "      <td>2.2</td>\n",
              "      <td>rain</td>\n",
              "    </tr>\n",
              "    <tr>\n",
              "      <th>6</th>\n",
              "      <td>0.0</td>\n",
              "      <td>7.2</td>\n",
              "      <td>2.8</td>\n",
              "      <td>2.3</td>\n",
              "      <td>rain</td>\n",
              "    </tr>\n",
              "    <tr>\n",
              "      <th>7</th>\n",
              "      <td>0.0</td>\n",
              "      <td>10.0</td>\n",
              "      <td>2.8</td>\n",
              "      <td>2.0</td>\n",
              "      <td>sun</td>\n",
              "    </tr>\n",
              "    <tr>\n",
              "      <th>8</th>\n",
              "      <td>4.3</td>\n",
              "      <td>9.4</td>\n",
              "      <td>5.0</td>\n",
              "      <td>3.4</td>\n",
              "      <td>rain</td>\n",
              "    </tr>\n",
              "    <tr>\n",
              "      <th>9</th>\n",
              "      <td>1.0</td>\n",
              "      <td>6.1</td>\n",
              "      <td>0.6</td>\n",
              "      <td>3.4</td>\n",
              "      <td>rain</td>\n",
              "    </tr>\n",
              "    <tr>\n",
              "      <th>10</th>\n",
              "      <td>0.0</td>\n",
              "      <td>6.1</td>\n",
              "      <td>-1.1</td>\n",
              "      <td>5.1</td>\n",
              "      <td>sun</td>\n",
              "    </tr>\n",
              "    <tr>\n",
              "      <th>11</th>\n",
              "      <td>0.0</td>\n",
              "      <td>6.1</td>\n",
              "      <td>-1.7</td>\n",
              "      <td>1.9</td>\n",
              "      <td>sun</td>\n",
              "    </tr>\n",
              "    <tr>\n",
              "      <th>12</th>\n",
              "      <td>0.0</td>\n",
              "      <td>5.0</td>\n",
              "      <td>-2.8</td>\n",
              "      <td>1.3</td>\n",
              "      <td>sun</td>\n",
              "    </tr>\n",
              "    <tr>\n",
              "      <th>13</th>\n",
              "      <td>4.1</td>\n",
              "      <td>4.4</td>\n",
              "      <td>0.6</td>\n",
              "      <td>5.3</td>\n",
              "      <td>snow</td>\n",
              "    </tr>\n",
              "    <tr>\n",
              "      <th>14</th>\n",
              "      <td>5.3</td>\n",
              "      <td>1.1</td>\n",
              "      <td>-3.3</td>\n",
              "      <td>3.2</td>\n",
              "      <td>snow</td>\n",
              "    </tr>\n",
              "  </tbody>\n",
              "</table>\n",
              "</div>\n",
              "    <div class=\"colab-df-buttons\">\n",
              "\n",
              "  <div class=\"colab-df-container\">\n",
              "    <button class=\"colab-df-convert\" onclick=\"convertToInteractive('df-0d941f4b-69ca-4a14-a060-67cbf4fafea9')\"\n",
              "            title=\"Convert this dataframe to an interactive table.\"\n",
              "            style=\"display:none;\">\n",
              "\n",
              "  <svg xmlns=\"http://www.w3.org/2000/svg\" height=\"24px\" viewBox=\"0 -960 960 960\">\n",
              "    <path d=\"M120-120v-720h720v720H120Zm60-500h600v-160H180v160Zm220 220h160v-160H400v160Zm0 220h160v-160H400v160ZM180-400h160v-160H180v160Zm440 0h160v-160H620v160ZM180-180h160v-160H180v160Zm440 0h160v-160H620v160Z\"/>\n",
              "  </svg>\n",
              "    </button>\n",
              "\n",
              "  <style>\n",
              "    .colab-df-container {\n",
              "      display:flex;\n",
              "      gap: 12px;\n",
              "    }\n",
              "\n",
              "    .colab-df-convert {\n",
              "      background-color: #E8F0FE;\n",
              "      border: none;\n",
              "      border-radius: 50%;\n",
              "      cursor: pointer;\n",
              "      display: none;\n",
              "      fill: #1967D2;\n",
              "      height: 32px;\n",
              "      padding: 0 0 0 0;\n",
              "      width: 32px;\n",
              "    }\n",
              "\n",
              "    .colab-df-convert:hover {\n",
              "      background-color: #E2EBFA;\n",
              "      box-shadow: 0px 1px 2px rgba(60, 64, 67, 0.3), 0px 1px 3px 1px rgba(60, 64, 67, 0.15);\n",
              "      fill: #174EA6;\n",
              "    }\n",
              "\n",
              "    .colab-df-buttons div {\n",
              "      margin-bottom: 4px;\n",
              "    }\n",
              "\n",
              "    [theme=dark] .colab-df-convert {\n",
              "      background-color: #3B4455;\n",
              "      fill: #D2E3FC;\n",
              "    }\n",
              "\n",
              "    [theme=dark] .colab-df-convert:hover {\n",
              "      background-color: #434B5C;\n",
              "      box-shadow: 0px 1px 3px 1px rgba(0, 0, 0, 0.15);\n",
              "      filter: drop-shadow(0px 1px 2px rgba(0, 0, 0, 0.3));\n",
              "      fill: #FFFFFF;\n",
              "    }\n",
              "  </style>\n",
              "\n",
              "    <script>\n",
              "      const buttonEl =\n",
              "        document.querySelector('#df-0d941f4b-69ca-4a14-a060-67cbf4fafea9 button.colab-df-convert');\n",
              "      buttonEl.style.display =\n",
              "        google.colab.kernel.accessAllowed ? 'block' : 'none';\n",
              "\n",
              "      async function convertToInteractive(key) {\n",
              "        const element = document.querySelector('#df-0d941f4b-69ca-4a14-a060-67cbf4fafea9');\n",
              "        const dataTable =\n",
              "          await google.colab.kernel.invokeFunction('convertToInteractive',\n",
              "                                                    [key], {});\n",
              "        if (!dataTable) return;\n",
              "\n",
              "        const docLinkHtml = 'Like what you see? Visit the ' +\n",
              "          '<a target=\"_blank\" href=https://colab.research.google.com/notebooks/data_table.ipynb>data table notebook</a>'\n",
              "          + ' to learn more about interactive tables.';\n",
              "        element.innerHTML = '';\n",
              "        dataTable['output_type'] = 'display_data';\n",
              "        await google.colab.output.renderOutput(dataTable, element);\n",
              "        const docLink = document.createElement('div');\n",
              "        docLink.innerHTML = docLinkHtml;\n",
              "        element.appendChild(docLink);\n",
              "      }\n",
              "    </script>\n",
              "  </div>\n",
              "\n",
              "\n",
              "<div id=\"df-1aa830bf-081e-4a79-8d48-3028ee4d9084\">\n",
              "  <button class=\"colab-df-quickchart\" onclick=\"quickchart('df-1aa830bf-081e-4a79-8d48-3028ee4d9084')\"\n",
              "            title=\"Suggest charts\"\n",
              "            style=\"display:none;\">\n",
              "\n",
              "<svg xmlns=\"http://www.w3.org/2000/svg\" height=\"24px\"viewBox=\"0 0 24 24\"\n",
              "     width=\"24px\">\n",
              "    <g>\n",
              "        <path d=\"M19 3H5c-1.1 0-2 .9-2 2v14c0 1.1.9 2 2 2h14c1.1 0 2-.9 2-2V5c0-1.1-.9-2-2-2zM9 17H7v-7h2v7zm4 0h-2V7h2v10zm4 0h-2v-4h2v4z\"/>\n",
              "    </g>\n",
              "</svg>\n",
              "  </button>\n",
              "\n",
              "<style>\n",
              "  .colab-df-quickchart {\n",
              "      --bg-color: #E8F0FE;\n",
              "      --fill-color: #1967D2;\n",
              "      --hover-bg-color: #E2EBFA;\n",
              "      --hover-fill-color: #174EA6;\n",
              "      --disabled-fill-color: #AAA;\n",
              "      --disabled-bg-color: #DDD;\n",
              "  }\n",
              "\n",
              "  [theme=dark] .colab-df-quickchart {\n",
              "      --bg-color: #3B4455;\n",
              "      --fill-color: #D2E3FC;\n",
              "      --hover-bg-color: #434B5C;\n",
              "      --hover-fill-color: #FFFFFF;\n",
              "      --disabled-bg-color: #3B4455;\n",
              "      --disabled-fill-color: #666;\n",
              "  }\n",
              "\n",
              "  .colab-df-quickchart {\n",
              "    background-color: var(--bg-color);\n",
              "    border: none;\n",
              "    border-radius: 50%;\n",
              "    cursor: pointer;\n",
              "    display: none;\n",
              "    fill: var(--fill-color);\n",
              "    height: 32px;\n",
              "    padding: 0;\n",
              "    width: 32px;\n",
              "  }\n",
              "\n",
              "  .colab-df-quickchart:hover {\n",
              "    background-color: var(--hover-bg-color);\n",
              "    box-shadow: 0 1px 2px rgba(60, 64, 67, 0.3), 0 1px 3px 1px rgba(60, 64, 67, 0.15);\n",
              "    fill: var(--button-hover-fill-color);\n",
              "  }\n",
              "\n",
              "  .colab-df-quickchart-complete:disabled,\n",
              "  .colab-df-quickchart-complete:disabled:hover {\n",
              "    background-color: var(--disabled-bg-color);\n",
              "    fill: var(--disabled-fill-color);\n",
              "    box-shadow: none;\n",
              "  }\n",
              "\n",
              "  .colab-df-spinner {\n",
              "    border: 2px solid var(--fill-color);\n",
              "    border-color: transparent;\n",
              "    border-bottom-color: var(--fill-color);\n",
              "    animation:\n",
              "      spin 1s steps(1) infinite;\n",
              "  }\n",
              "\n",
              "  @keyframes spin {\n",
              "    0% {\n",
              "      border-color: transparent;\n",
              "      border-bottom-color: var(--fill-color);\n",
              "      border-left-color: var(--fill-color);\n",
              "    }\n",
              "    20% {\n",
              "      border-color: transparent;\n",
              "      border-left-color: var(--fill-color);\n",
              "      border-top-color: var(--fill-color);\n",
              "    }\n",
              "    30% {\n",
              "      border-color: transparent;\n",
              "      border-left-color: var(--fill-color);\n",
              "      border-top-color: var(--fill-color);\n",
              "      border-right-color: var(--fill-color);\n",
              "    }\n",
              "    40% {\n",
              "      border-color: transparent;\n",
              "      border-right-color: var(--fill-color);\n",
              "      border-top-color: var(--fill-color);\n",
              "    }\n",
              "    60% {\n",
              "      border-color: transparent;\n",
              "      border-right-color: var(--fill-color);\n",
              "    }\n",
              "    80% {\n",
              "      border-color: transparent;\n",
              "      border-right-color: var(--fill-color);\n",
              "      border-bottom-color: var(--fill-color);\n",
              "    }\n",
              "    90% {\n",
              "      border-color: transparent;\n",
              "      border-bottom-color: var(--fill-color);\n",
              "    }\n",
              "  }\n",
              "</style>\n",
              "\n",
              "  <script>\n",
              "    async function quickchart(key) {\n",
              "      const quickchartButtonEl =\n",
              "        document.querySelector('#' + key + ' button');\n",
              "      quickchartButtonEl.disabled = true;  // To prevent multiple clicks.\n",
              "      quickchartButtonEl.classList.add('colab-df-spinner');\n",
              "      try {\n",
              "        const charts = await google.colab.kernel.invokeFunction(\n",
              "            'suggestCharts', [key], {});\n",
              "      } catch (error) {\n",
              "        console.error('Error during call to suggestCharts:', error);\n",
              "      }\n",
              "      quickchartButtonEl.classList.remove('colab-df-spinner');\n",
              "      quickchartButtonEl.classList.add('colab-df-quickchart-complete');\n",
              "    }\n",
              "    (() => {\n",
              "      let quickchartButtonEl =\n",
              "        document.querySelector('#df-1aa830bf-081e-4a79-8d48-3028ee4d9084 button');\n",
              "      quickchartButtonEl.style.display =\n",
              "        google.colab.kernel.accessAllowed ? 'block' : 'none';\n",
              "    })();\n",
              "  </script>\n",
              "</div>\n",
              "    </div>\n",
              "  </div>\n"
            ]
          },
          "metadata": {},
          "execution_count": 8
        }
      ]
    },
    {
      "cell_type": "code",
      "source": [
        "#mengecek data yang memiliki nilai duplikat\n",
        "df_duplicate = df.duplicated().sum()"
      ],
      "metadata": {
        "id": "6PLe96Ld0XBq"
      },
      "execution_count": null,
      "outputs": []
    },
    {
      "cell_type": "code",
      "source": [
        "#menghapus data yang merupakan duplikat\n",
        "df = df.drop_duplicates()"
      ],
      "metadata": {
        "id": "TSaP0jLH0ahc"
      },
      "execution_count": null,
      "outputs": []
    },
    {
      "cell_type": "markdown",
      "source": [
        "## **Visualisasi**"
      ],
      "metadata": {
        "id": "wheYuFvX-ngz"
      }
    },
    {
      "cell_type": "markdown",
      "source": [
        "![WhatsApp Image 2023-10-30 at 21.41.56.jpeg](data:image/jpeg;base64,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)"
      ],
      "metadata": {
        "id": "iMHN-yWYAKPB"
      }
    },
    {
      "cell_type": "markdown",
      "source": [
        "3. Diatas adalah contoh visualisasi menggunakan _diagram pie_,\n",
        "\n",
        "    buatlah **visualisasi distribusi _target-class_** seperti diatas!"
      ],
      "metadata": {
        "id": "uWtD_1C6Yflr"
      }
    },
    {
      "cell_type": "code",
      "source": [
        "import matplotlib.pyplot as plt"
      ],
      "metadata": {
        "id": "hSOqWOOKCdmK"
      },
      "execution_count": null,
      "outputs": []
    },
    {
      "cell_type": "code",
      "source": [
        "labels = ['drizzle', 'rain', 'sun', 'snow', 'fog']\n",
        "sizes = [44.1, 43.5, 7.0, 3.6, 1.8]\n",
        "colors = ['blue', 'yellow', 'red', 'orange', 'green']"
      ],
      "metadata": {
        "id": "vkyTKihhA0XN"
      },
      "execution_count": null,
      "outputs": []
    },
    {
      "cell_type": "code",
      "source": [
        "plt.figure(figsize=(8, 8))\n",
        "plt.pie(df.weather.value_counts(), labels=labels, colors=colors, autopct='%1.1f%%', startangle=140)\n",
        "plt.title('Pie Chart: Proporsi Kategori Target')\n",
        "plt.show()"
      ],
      "metadata": {
        "colab": {
          "base_uri": "https://localhost:8080/",
          "height": 675
        },
        "id": "XwCAu-AhBwWV",
        "outputId": "3a1fadf0-5ff8-4c73-dfc9-859ab96f6a22"
      },
      "execution_count": null,
      "outputs": [
        {
          "output_type": "display_data",
          "data": {
            "text/plain": [
              "<Figure size 800x800 with 1 Axes>"
            ],
            "image/png": "[encoded data removed]"
          },
          "metadata": {}
        }
      ]
    },
    {
      "cell_type": "markdown",
      "source": [
        "4. Anda akan melakukan **visualisasi relasi antar fitur** menggunakan _diagram scatter_.\n",
        "\n",
        "    Perbaiki kata **'fix_me'** pada _code-cell_ dibawah!"
      ],
      "metadata": {
        "id": "QumvAf26CmuA"
      }
    },
    {
      "cell_type": "code",
      "source": [
        "import pandas as pd\n",
        "import matplotlib.pyplot as plt\n",
        "import seaborn as sns"
      ],
      "metadata": {
        "id": "QfucL-5bCVXo"
      },
      "execution_count": null,
      "outputs": []
    },
    {
      "cell_type": "code",
      "source": [
        "df = pd.read_csv('seattle-weather.csv')"
      ],
      "metadata": {
        "id": "uVfccsvpCd8V"
      },
      "execution_count": null,
      "outputs": []
    },
    {
      "cell_type": "code",
      "source": [
        "target_names= df['weather'].unique()\n",
        "\n",
        "fig, axs = plt.subplots(nrows=1, ncols=2, figsize=(12, 5))\n",
        "\n",
        "target = df['weather'].replace({ 'drizzle': 0,\n",
        "  'rain': 1,\n",
        "  'sun':2,\n",
        "  'snow': 3,\n",
        "  'fog': 4\n",
        "})\n",
        "\n",
        "# Visualisasi relasi fitur temp_max dan temp_min\n",
        "a_scatter =axs[0].scatter(df['temp_max'], df['temp_min'], c=target)\n",
        "axs[0].set(xlabel=\"temp_max\", ylabel=\"temp_min\")\n",
        "axs[0].legend(a_scatter.legend_elements()[0], target_names, loc=\"upper right\", title=\"Classes\")\n",
        "\n",
        "# Visualisasi relasi fitur precipitation dan wind\n",
        "b_scatter = axs[1].scatter(df['precipitation'], df['wind'], c=target)\n",
        "axs[1].set(xlabel=\"precipitation\", ylabel=\"wind\")\n",
        "axs[1].legend(b_scatter.legend_elements()[0], target_names, loc=\"lower right\", title=\"Classes\")\n",
        "\n",
        "fig = fig.suptitle(\"Relasi Antar Nilai Target\", fontsize=20, fontweight=\"bold\")\n",
        "plt.tight_layout()"
      ],
      "metadata": {
        "id": "GgHGDKjA1z51",
        "colab": {
          "base_uri": "https://localhost:8080/",
          "height": 499
        },
        "outputId": "71aff902-8211-456e-bb79-58a47578d213"
      },
      "execution_count": null,
      "outputs": [
        {
          "output_type": "display_data",
          "data": {
            "text/plain": [
              "<Figure size 1200x500 with 2 Axes>"
            ],
            "image/png": "[encoded data removed]"
          },
          "metadata": {}
        }
      ]
    },
    {
      "cell_type": "code",
      "source": [
        "#import seaborn as sns"
      ],
      "metadata": {
        "id": "lu414FLBL6il"
      },
      "execution_count": null,
      "outputs": []
    },
    {
      "cell_type": "code",
      "source": [
        "fig, axes = plt.subplots(1, 4, figsize=(20, 5))\n",
        "plt.suptitle('Fitur', fontsize=25, fontweight='bold', color='navy')\n",
        "\n",
        "# axis 1\n",
        "sns.histplot(data=df, x='precipitation', ax=axes[0])\n",
        "\n",
        "# axis 2\n",
        "sns.histplot(data=df, x='wind', ax=axes[1])\n",
        "\n",
        "# axis 3\n",
        "sns.histplot(data=df, x='temp_max', ax=axes[2])\n",
        "\n",
        "# axis 4\n",
        "sns.histplot(data=df, x='temp_min', ax=axes[3])"
      ],
      "metadata": {
        "colab": {
          "base_uri": "https://localhost:8080/",
          "height": 389
        },
        "id": "dMFtyTcCmkVh",
        "outputId": "fb3d6bb0-a583-4626-dcbf-4535238e8023"
      },
      "execution_count": null,
      "outputs": [
        {
          "output_type": "execute_result",
          "data": {
            "text/plain": [
              "<Axes: xlabel='temp_min', ylabel='Count'>"
            ]
          },
          "metadata": {},
          "execution_count": 18
        },
        {
          "output_type": "display_data",
          "data": {
            "text/plain": [
              "<Figure size 2000x500 with 4 Axes>"
            ],
            "image/png": "[encoded data removed]"
          },
          "metadata": {}
        }
      ]
    },
    {
      "cell_type": "markdown",
      "source": [
        "## **Modelling**"
      ],
      "metadata": {
        "id": "ClNSDoL7Ewew"
      }
    },
    {
      "cell_type": "markdown",
      "source": [
        "5. **Bagi dataset** menjadi _train-set_ dan _test-set_ dengan ketentuan sebagai berikut:\n",
        "\n",
        "    a. X = seluruh kolom fitur kecuali kolom target\n",
        "\n",
        "    b. y = kolom target\n",
        "    \n",
        "    c. Bagi dengan rasio 70% _train-set_ dan 30% _test-set_"
      ],
      "metadata": {
        "id": "Fa4dHOM4E3LG"
      }
    },
    {
      "cell_type": "code",
      "source": [
        "import pandas as pd\n",
        "from sklearn.model_selection import train_test_split"
      ],
      "metadata": {
        "id": "I8MHqeePo912"
      },
      "execution_count": null,
      "outputs": []
    },
    {
      "cell_type": "code",
      "source": [
        "# membaca dataset\n",
        "df = pd.read_csv('/content/seattle-weather.csv')"
      ],
      "metadata": {
        "id": "NzpkYlx6S5ar"
      },
      "execution_count": null,
      "outputs": []
    },
    {
      "cell_type": "code",
      "source": [
        "# Memisahkan fitur dan label\n",
        "x = df.iloc[:, 1:]\n",
        "y = df.iloc[:, 0]\n",
        "# Alternatif\n",
        "# x = df.drop('harga', axis=1)\n",
        "# y = df['harga']"
      ],
      "metadata": {
        "id": "utlac3_tTGbc"
      },
      "execution_count": null,
      "outputs": []
    },
    {
      "cell_type": "code",
      "source": [
        "# membagi data menjadi data training dan data testing dengan perbandingan 80:20\n",
        "# Random state digunakan untuk mengatur agar pembagian data menjadi sama setiap kali dijalankan (dapat diisi dengan angka berapapun)\n",
        "x_train, x_test, y_train, y_test = train_test_split(x, y, test_size=0.2, random_state=123)"
      ],
      "metadata": {
        "id": "hcZuN9VSTLED"
      },
      "execution_count": null,
      "outputs": []
    },
    {
      "cell_type": "code",
      "source": [
        "# menampilkan ukuran data training dan data testing\n",
        "trainRatio = round(x_train.shape[0]/len(df), 2)*100\n",
        "testRatio = round(x_test.shape[0]/len(df), 2)*100"
      ],
      "metadata": {
        "id": "xgYhWtBITP5W"
      },
      "execution_count": null,
      "outputs": []
    },
    {
      "cell_type": "code",
      "source": [
        "print(f'Train set: {x_train.shape[0]} ({trainRatio}%)')\n",
        "print(f'Test set: {x_test.shape[0]} ({testRatio}%)')"
      ],
      "metadata": {
        "colab": {
          "base_uri": "https://localhost:8080/"
        },
        "id": "N1lkiv8gTUrs",
        "outputId": "835fbf71-4a1a-4e24-8d78-d27edc203d60"
      },
      "execution_count": null,
      "outputs": [
        {
          "output_type": "stream",
          "name": "stdout",
          "text": [
            "Train set: 1168 (80.0%)\n",
            "Test set: 293 (20.0%)\n"
          ]
        }
      ]
    },
    {
      "cell_type": "markdown",
      "source": [
        "6. **Perbaiki kata 'fix_me'** pada _code-cell_ dibawah untuk **menampilkan visualisasi rasio _target-class_** pada _train-set_ dan _test-set_!"
      ],
      "metadata": {
        "id": "7AEfzpv8Hllh"
      }
    },
    {
      "cell_type": "code",
      "source": [
        "fig, axs = plt.subplots(nrows=1, ncols=2, figsize=(14, 7))\n",
        "target_names = df['weather'].value_counts()\n",
        "colors1 = ['gold', 'lightcoral', 'lightsteelblue']\n",
        "colors2 = ['coral', 'lightgreen', 'lightskyblue']\n",
        "\n",
        "#Train dataset\n",
        "axs[0].pie(target_names, labels=target_names.index, colors=colors1, autopct='%1.1f%%', startangle=90)\n",
        "axs[0].set_title(\"Train Set\", fontweight=\"bold\")\n",
        "\n",
        "#Test dataset\n",
        "axs[1].pie(df['weather'].value_counts(), labels=target_names, colors=colors2, autopct='%1.1f%%', startangle=90)\n",
        "axs[1].set_title(\"Test Set\", fontweight=\"bold\")\n",
        "\n",
        "fig = fig.suptitle(\"Rasio Tiap Set\", fontsize=20, fontweight=\"bold\")\n",
        "plt.tight_layout()"
      ],
      "metadata": {
        "colab": {
          "base_uri": "https://localhost:8080/",
          "height": 615
        },
        "id": "gEoYdiwfprrr",
        "outputId": "dfe10221-88b8-4fb9-d4bc-6078fb0bb576"
      },
      "execution_count": null,
      "outputs": [
        {
          "output_type": "display_data",
          "data": {
            "text/plain": [
              "<Figure size 1400x700 with 2 Axes>"
            ],
            "image/png": "[encoded data removed]"
          },
          "metadata": {}
        }
      ]
    },
    {
      "cell_type": "markdown",
      "source": [
        "7.  Buatlah model dengan salah satu algoritma klasifikasi lalu latih dan prediksi dataset!"
      ],
      "metadata": {
        "id": "onchUxjlIQPB"
      }
    },
    {
      "cell_type": "code",
      "source": [
        "#import library utama\n",
        "import pandas as pd #digunakan untuk analisis data\n",
        "import matplotlib.pyplot as plt #menampilkan visual\n",
        "import numpy as np #digunakan untuk komputasi matriks"
      ],
      "metadata": {
        "id": "FKae33hZXOfG"
      },
      "execution_count": null,
      "outputs": []
    },
    {
      "cell_type": "code",
      "source": [
        "df = pd.read_csv('/content/seattle-weather.csv')"
      ],
      "metadata": {
        "id": "ahNzqgnhTSXa"
      },
      "execution_count": null,
      "outputs": []
    },
    {
      "cell_type": "code",
      "source": [
        "df.drop(columns=['date'], inplace=True )"
      ],
      "metadata": {
        "id": "TDqWOLGheGih"
      },
      "execution_count": null,
      "outputs": []
    },
    {
      "cell_type": "code",
      "source": [
        "#menampilkan 5 data utama\n",
        "df.head()"
      ],
      "metadata": {
        "colab": {
          "base_uri": "https://localhost:8080/",
          "height": 206
        },
        "id": "aO67RnyhTUc4",
        "outputId": "9c9acde2-a8ca-4d7e-a843-f74517a176e4"
      },
      "execution_count": null,
      "outputs": [
        {
          "output_type": "execute_result",
          "data": {
            "text/plain": [
              "   precipitation  temp_max  temp_min  wind  weather\n",
              "0            0.0      12.8       5.0   4.7  drizzle\n",
              "1           10.9      10.6       2.8   4.5     rain\n",
              "2            0.8      11.7       7.2   2.3     rain\n",
              "3           20.3      12.2       5.6   4.7     rain\n",
              "4            1.3       8.9       2.8   6.1     rain"
            ],
            "text/html": [
              "\n",
              "  <div id=\"df-dc221f71-9544-4c5e-8b46-d79f292a9196\" class=\"colab-df-container\">\n",
              "    <div>\n",
              "<style scoped>\n",
              "    .dataframe tbody tr th:only-of-type {\n",
              "        vertical-align: middle;\n",
              "    }\n",
              "\n",
              "    .dataframe tbody tr th {\n",
              "        vertical-align: top;\n",
              "    }\n",
              "\n",
              "    .dataframe thead th {\n",
              "        text-align: right;\n",
              "    }\n",
              "</style>\n",
              "<table border=\"1\" class=\"dataframe\">\n",
              "  <thead>\n",
              "    <tr style=\"text-align: right;\">\n",
              "      <th></th>\n",
              "      <th>precipitation</th>\n",
              "      <th>temp_max</th>\n",
              "      <th>temp_min</th>\n",
              "      <th>wind</th>\n",
              "      <th>weather</th>\n",
              "    </tr>\n",
              "  </thead>\n",
              "  <tbody>\n",
              "    <tr>\n",
              "      <th>0</th>\n",
              "      <td>0.0</td>\n",
              "      <td>12.8</td>\n",
              "      <td>5.0</td>\n",
              "      <td>4.7</td>\n",
              "      <td>drizzle</td>\n",
              "    </tr>\n",
              "    <tr>\n",
              "      <th>1</th>\n",
              "      <td>10.9</td>\n",
              "      <td>10.6</td>\n",
              "      <td>2.8</td>\n",
              "      <td>4.5</td>\n",
              "      <td>rain</td>\n",
              "    </tr>\n",
              "    <tr>\n",
              "      <th>2</th>\n",
              "      <td>0.8</td>\n",
              "      <td>11.7</td>\n",
              "      <td>7.2</td>\n",
              "      <td>2.3</td>\n",
              "      <td>rain</td>\n",
              "    </tr>\n",
              "    <tr>\n",
              "      <th>3</th>\n",
              "      <td>20.3</td>\n",
              "      <td>12.2</td>\n",
              "      <td>5.6</td>\n",
              "      <td>4.7</td>\n",
              "      <td>rain</td>\n",
              "    </tr>\n",
              "    <tr>\n",
              "      <th>4</th>\n",
              "      <td>1.3</td>\n",
              "      <td>8.9</td>\n",
              "      <td>2.8</td>\n",
              "      <td>6.1</td>\n",
              "      <td>rain</td>\n",
              "    </tr>\n",
              "  </tbody>\n",
              "</table>\n",
              "</div>\n",
              "    <div class=\"colab-df-buttons\">\n",
              "\n",
              "  <div class=\"colab-df-container\">\n",
              "    <button class=\"colab-df-convert\" onclick=\"convertToInteractive('df-dc221f71-9544-4c5e-8b46-d79f292a9196')\"\n",
              "            title=\"Convert this dataframe to an interactive table.\"\n",
              "            style=\"display:none;\">\n",
              "\n",
              "  <svg xmlns=\"http://www.w3.org/2000/svg\" height=\"24px\" viewBox=\"0 -960 960 960\">\n",
              "    <path d=\"M120-120v-720h720v720H120Zm60-500h600v-160H180v160Zm220 220h160v-160H400v160Zm0 220h160v-160H400v160ZM180-400h160v-160H180v160Zm440 0h160v-160H620v160ZM180-180h160v-160H180v160Zm440 0h160v-160H620v160Z\"/>\n",
              "  </svg>\n",
              "    </button>\n",
              "\n",
              "  <style>\n",
              "    .colab-df-container {\n",
              "      display:flex;\n",
              "      gap: 12px;\n",
              "    }\n",
              "\n",
              "    .colab-df-convert {\n",
              "      background-color: #E8F0FE;\n",
              "      border: none;\n",
              "      border-radius: 50%;\n",
              "      cursor: pointer;\n",
              "      display: none;\n",
              "      fill: #1967D2;\n",
              "      height: 32px;\n",
              "      padding: 0 0 0 0;\n",
              "      width: 32px;\n",
              "    }\n",
              "\n",
              "    .colab-df-convert:hover {\n",
              "      background-color: #E2EBFA;\n",
              "      box-shadow: 0px 1px 2px rgba(60, 64, 67, 0.3), 0px 1px 3px 1px rgba(60, 64, 67, 0.15);\n",
              "      fill: #174EA6;\n",
              "    }\n",
              "\n",
              "    .colab-df-buttons div {\n",
              "      margin-bottom: 4px;\n",
              "    }\n",
              "\n",
              "    [theme=dark] .colab-df-convert {\n",
              "      background-color: #3B4455;\n",
              "      fill: #D2E3FC;\n",
              "    }\n",
              "\n",
              "    [theme=dark] .colab-df-convert:hover {\n",
              "      background-color: #434B5C;\n",
              "      box-shadow: 0px 1px 3px 1px rgba(0, 0, 0, 0.15);\n",
              "      filter: drop-shadow(0px 1px 2px rgba(0, 0, 0, 0.3));\n",
              "      fill: #FFFFFF;\n",
              "    }\n",
              "  </style>\n",
              "\n",
              "    <script>\n",
              "      const buttonEl =\n",
              "        document.querySelector('#df-dc221f71-9544-4c5e-8b46-d79f292a9196 button.colab-df-convert');\n",
              "      buttonEl.style.display =\n",
              "        google.colab.kernel.accessAllowed ? 'block' : 'none';\n",
              "\n",
              "      async function convertToInteractive(key) {\n",
              "        const element = document.querySelector('#df-dc221f71-9544-4c5e-8b46-d79f292a9196');\n",
              "        const dataTable =\n",
              "          await google.colab.kernel.invokeFunction('convertToInteractive',\n",
              "                                                    [key], {});\n",
              "        if (!dataTable) return;\n",
              "\n",
              "        const docLinkHtml = 'Like what you see? Visit the ' +\n",
              "          '<a target=\"_blank\" href=https://colab.research.google.com/notebooks/data_table.ipynb>data table notebook</a>'\n",
              "          + ' to learn more about interactive tables.';\n",
              "        element.innerHTML = '';\n",
              "        dataTable['output_type'] = 'display_data';\n",
              "        await google.colab.output.renderOutput(dataTable, element);\n",
              "        const docLink = document.createElement('div');\n",
              "        docLink.innerHTML = docLinkHtml;\n",
              "        element.appendChild(docLink);\n",
              "      }\n",
              "    </script>\n",
              "  </div>\n",
              "\n",
              "\n",
              "<div id=\"df-e78f815b-2f3e-48f9-bad3-360470ce4c2b\">\n",
              "  <button class=\"colab-df-quickchart\" onclick=\"quickchart('df-e78f815b-2f3e-48f9-bad3-360470ce4c2b')\"\n",
              "            title=\"Suggest charts\"\n",
              "            style=\"display:none;\">\n",
              "\n",
              "<svg xmlns=\"http://www.w3.org/2000/svg\" height=\"24px\"viewBox=\"0 0 24 24\"\n",
              "     width=\"24px\">\n",
              "    <g>\n",
              "        <path d=\"M19 3H5c-1.1 0-2 .9-2 2v14c0 1.1.9 2 2 2h14c1.1 0 2-.9 2-2V5c0-1.1-.9-2-2-2zM9 17H7v-7h2v7zm4 0h-2V7h2v10zm4 0h-2v-4h2v4z\"/>\n",
              "    </g>\n",
              "</svg>\n",
              "  </button>\n",
              "\n",
              "<style>\n",
              "  .colab-df-quickchart {\n",
              "      --bg-color: #E8F0FE;\n",
              "      --fill-color: #1967D2;\n",
              "      --hover-bg-color: #E2EBFA;\n",
              "      --hover-fill-color: #174EA6;\n",
              "      --disabled-fill-color: #AAA;\n",
              "      --disabled-bg-color: #DDD;\n",
              "  }\n",
              "\n",
              "  [theme=dark] .colab-df-quickchart {\n",
              "      --bg-color: #3B4455;\n",
              "      --fill-color: #D2E3FC;\n",
              "      --hover-bg-color: #434B5C;\n",
              "      --hover-fill-color: #FFFFFF;\n",
              "      --disabled-bg-color: #3B4455;\n",
              "      --disabled-fill-color: #666;\n",
              "  }\n",
              "\n",
              "  .colab-df-quickchart {\n",
              "    background-color: var(--bg-color);\n",
              "    border: none;\n",
              "    border-radius: 50%;\n",
              "    cursor: pointer;\n",
              "    display: none;\n",
              "    fill: var(--fill-color);\n",
              "    height: 32px;\n",
              "    padding: 0;\n",
              "    width: 32px;\n",
              "  }\n",
              "\n",
              "  .colab-df-quickchart:hover {\n",
              "    background-color: var(--hover-bg-color);\n",
              "    box-shadow: 0 1px 2px rgba(60, 64, 67, 0.3), 0 1px 3px 1px rgba(60, 64, 67, 0.15);\n",
              "    fill: var(--button-hover-fill-color);\n",
              "  }\n",
              "\n",
              "  .colab-df-quickchart-complete:disabled,\n",
              "  .colab-df-quickchart-complete:disabled:hover {\n",
              "    background-color: var(--disabled-bg-color);\n",
              "    fill: var(--disabled-fill-color);\n",
              "    box-shadow: none;\n",
              "  }\n",
              "\n",
              "  .colab-df-spinner {\n",
              "    border: 2px solid var(--fill-color);\n",
              "    border-color: transparent;\n",
              "    border-bottom-color: var(--fill-color);\n",
              "    animation:\n",
              "      spin 1s steps(1) infinite;\n",
              "  }\n",
              "\n",
              "  @keyframes spin {\n",
              "    0% {\n",
              "      border-color: transparent;\n",
              "      border-bottom-color: var(--fill-color);\n",
              "      border-left-color: var(--fill-color);\n",
              "    }\n",
              "    20% {\n",
              "      border-color: transparent;\n",
              "      border-left-color: var(--fill-color);\n",
              "      border-top-color: var(--fill-color);\n",
              "    }\n",
              "    30% {\n",
              "      border-color: transparent;\n",
              "      border-left-color: var(--fill-color);\n",
              "      border-top-color: var(--fill-color);\n",
              "      border-right-color: var(--fill-color);\n",
              "    }\n",
              "    40% {\n",
              "      border-color: transparent;\n",
              "      border-right-color: var(--fill-color);\n",
              "      border-top-color: var(--fill-color);\n",
              "    }\n",
              "    60% {\n",
              "      border-color: transparent;\n",
              "      border-right-color: var(--fill-color);\n",
              "    }\n",
              "    80% {\n",
              "      border-color: transparent;\n",
              "      border-right-color: var(--fill-color);\n",
              "      border-bottom-color: var(--fill-color);\n",
              "    }\n",
              "    90% {\n",
              "      border-color: transparent;\n",
              "      border-bottom-color: var(--fill-color);\n",
              "    }\n",
              "  }\n",
              "</style>\n",
              "\n",
              "  <script>\n",
              "    async function quickchart(key) {\n",
              "      const quickchartButtonEl =\n",
              "        document.querySelector('#' + key + ' button');\n",
              "      quickchartButtonEl.disabled = true;  // To prevent multiple clicks.\n",
              "      quickchartButtonEl.classList.add('colab-df-spinner');\n",
              "      try {\n",
              "        const charts = await google.colab.kernel.invokeFunction(\n",
              "            'suggestCharts', [key], {});\n",
              "      } catch (error) {\n",
              "        console.error('Error during call to suggestCharts:', error);\n",
              "      }\n",
              "      quickchartButtonEl.classList.remove('colab-df-spinner');\n",
              "      quickchartButtonEl.classList.add('colab-df-quickchart-complete');\n",
              "    }\n",
              "    (() => {\n",
              "      let quickchartButtonEl =\n",
              "        document.querySelector('#df-e78f815b-2f3e-48f9-bad3-360470ce4c2b button');\n",
              "      quickchartButtonEl.style.display =\n",
              "        google.colab.kernel.accessAllowed ? 'block' : 'none';\n",
              "    })();\n",
              "  </script>\n",
              "</div>\n",
              "    </div>\n",
              "  </div>\n"
            ]
          },
          "metadata": {},
          "execution_count": 29
        }
      ]
    },
    {
      "cell_type": "code",
      "source": [
        "#variabel x adalah variabel yang memuat atribut\n",
        "#variablel y adalah variabel yang membuat tabel\n",
        "x = df.iloc[:, [1, 2]].values\n",
        "y = df.iloc[:, -1].values"
      ],
      "metadata": {
        "id": "Jzkry4CtQtfR"
      },
      "execution_count": null,
      "outputs": []
    },
    {
      "cell_type": "code",
      "source": [
        "print(x)"
      ],
      "metadata": {
        "colab": {
          "base_uri": "https://localhost:8080/"
        },
        "id": "cHQw2SlLUVqQ",
        "outputId": "3a16edc4-110b-46b9-ab90-ed4cec177c7d"
      },
      "execution_count": null,
      "outputs": [
        {
          "output_type": "stream",
          "name": "stdout",
          "text": [
            "[[12.8  5. ]\n",
            " [10.6  2.8]\n",
            " [11.7  7.2]\n",
            " ...\n",
            " [ 7.2  0.6]\n",
            " [ 5.6 -1. ]\n",
            " [ 5.6 -2.1]]\n"
          ]
        }
      ]
    },
    {
      "cell_type": "code",
      "source": [
        "print(y)"
      ],
      "metadata": {
        "colab": {
          "base_uri": "https://localhost:8080/"
        },
        "id": "jr0DYsa5UsIw",
        "outputId": "079be2df-b683-4625-9b63-95c8ab760e29"
      },
      "execution_count": null,
      "outputs": [
        {
          "output_type": "stream",
          "name": "stdout",
          "text": [
            "['drizzle' 'rain' 'rain' ... 'fog' 'sun' 'sun']\n"
          ]
        }
      ]
    },
    {
      "cell_type": "code",
      "source": [
        "#membagi dataset ke data training dan data testing"
      ],
      "metadata": {
        "id": "C9ly5rMGVw-v"
      },
      "execution_count": null,
      "outputs": []
    },
    {
      "cell_type": "code",
      "source": [
        "from sklearn.model_selection import train_test_split\n",
        "x_train, x_test, y_train, y_test = train_test_split(x, y, test_size=0.25, random_state=0)"
      ],
      "metadata": {
        "id": "euBLceyRV6ch"
      },
      "execution_count": null,
      "outputs": []
    },
    {
      "cell_type": "code",
      "source": [
        "print(x_train)"
      ],
      "metadata": {
        "colab": {
          "base_uri": "https://localhost:8080/"
        },
        "id": "lApjraGaWmv6",
        "outputId": "3e432367-bf13-40e0-d5a6-33e78367a63a"
      },
      "execution_count": null,
      "outputs": [
        {
          "output_type": "stream",
          "name": "stdout",
          "text": [
            "[[13.3  8.3]\n",
            " [16.1  7.2]\n",
            " [11.1  7.8]\n",
            " ...\n",
            " [18.3  8.9]\n",
            " [26.1 11.1]\n",
            " [10.6  7.2]]\n"
          ]
        }
      ]
    },
    {
      "cell_type": "code",
      "source": [
        "len(x_train)"
      ],
      "metadata": {
        "colab": {
          "base_uri": "https://localhost:8080/"
        },
        "id": "FPPVfnwiWri8",
        "outputId": "2d9ca451-c54e-46ed-ef81-06da5f353e29"
      },
      "execution_count": null,
      "outputs": [
        {
          "output_type": "execute_result",
          "data": {
            "text/plain": [
              "1095"
            ]
          },
          "metadata": {},
          "execution_count": 36
        }
      ]
    },
    {
      "cell_type": "code",
      "source": [
        "len(x)"
      ],
      "metadata": {
        "colab": {
          "base_uri": "https://localhost:8080/"
        },
        "id": "SJwUMICnWxNE",
        "outputId": "f244de4b-a625-4f74-bea0-0fea313095de"
      },
      "execution_count": null,
      "outputs": [
        {
          "output_type": "execute_result",
          "data": {
            "text/plain": [
              "1461"
            ]
          },
          "metadata": {},
          "execution_count": 37
        }
      ]
    },
    {
      "cell_type": "code",
      "source": [
        "len(x_test)"
      ],
      "metadata": {
        "colab": {
          "base_uri": "https://localhost:8080/"
        },
        "id": "5DVapwA7W1Xa",
        "outputId": "b42d628b-0932-48c5-9748-d67cb0895ee4"
      },
      "execution_count": null,
      "outputs": [
        {
          "output_type": "execute_result",
          "data": {
            "text/plain": [
              "366"
            ]
          },
          "metadata": {},
          "execution_count": 38
        }
      ]
    },
    {
      "cell_type": "code",
      "source": [
        "print(y_train)"
      ],
      "metadata": {
        "colab": {
          "base_uri": "https://localhost:8080/"
        },
        "id": "xl5inJGaW-iC",
        "outputId": "fb6bedaa-9e33-45e1-e1c8-5211c5ddc92a"
      },
      "execution_count": null,
      "outputs": [
        {
          "output_type": "stream",
          "name": "stdout",
          "text": [
            "['rain' 'sun' 'rain' ... 'sun' 'sun' 'rain']\n"
          ]
        }
      ]
    },
    {
      "cell_type": "code",
      "source": [
        "len(y_train)"
      ],
      "metadata": {
        "colab": {
          "base_uri": "https://localhost:8080/"
        },
        "id": "RnN1ZByZXBRt",
        "outputId": "66d33074-530d-4e1a-9bc2-e8fbd9d87cb9"
      },
      "execution_count": null,
      "outputs": [
        {
          "output_type": "execute_result",
          "data": {
            "text/plain": [
              "1095"
            ]
          },
          "metadata": {},
          "execution_count": 40
        }
      ]
    },
    {
      "cell_type": "code",
      "source": [
        "len(y_test)"
      ],
      "metadata": {
        "colab": {
          "base_uri": "https://localhost:8080/"
        },
        "id": "fDGdA0aBXFjx",
        "outputId": "3e308a13-121e-41d9-a70f-ea04d8717f7e"
      },
      "execution_count": null,
      "outputs": [
        {
          "output_type": "execute_result",
          "data": {
            "text/plain": [
              "366"
            ]
          },
          "metadata": {},
          "execution_count": 41
        }
      ]
    },
    {
      "cell_type": "code",
      "source": [
        "#scalling data digunakan agar jarak antar data tidak terlalu jauh"
      ],
      "metadata": {
        "id": "AP0dj36-XOqI"
      },
      "execution_count": null,
      "outputs": []
    },
    {
      "cell_type": "code",
      "source": [
        "from sklearn.preprocessing import StandardScaler\n",
        "sc = StandardScaler()\n",
        "x_train = sc.fit_transform(x_train)\n",
        "x_test = sc.transform(x_test)"
      ],
      "metadata": {
        "id": "w38HSUJFXTPD"
      },
      "execution_count": null,
      "outputs": []
    },
    {
      "cell_type": "code",
      "source": [
        "print(x_train)"
      ],
      "metadata": {
        "colab": {
          "base_uri": "https://localhost:8080/"
        },
        "id": "-FGtWroNYK2g",
        "outputId": "0eff262d-a6ba-4996-adc1-86fa839e98f1"
      },
      "execution_count": null,
      "outputs": [
        {
          "output_type": "stream",
          "name": "stdout",
          "text": [
            "[[-0.41329488  0.03412509]\n",
            " [-0.03457403 -0.18232393]\n",
            " [-0.71086126 -0.06426083]\n",
            " ...\n",
            " [ 0.26299236  0.15218819]\n",
            " [ 1.31800044  0.58508622]\n",
            " [-0.77848998 -0.18232393]]\n"
          ]
        }
      ]
    },
    {
      "cell_type": "code",
      "source": [
        "print(x_test)"
      ],
      "metadata": {
        "colab": {
          "base_uri": "https://localhost:8080/"
        },
        "id": "NmiYLHIqYP0U",
        "outputId": "46cd9c7b-afe8-45e4-daa2-b633af7db0aa"
      },
      "execution_count": null,
      "outputs": [
        {
          "output_type": "stream",
          "name": "stdout",
          "text": [
            "[[ 0.49293002  0.80153523]\n",
            " [-0.77848998 -0.06426083]\n",
            " [-0.26451169  0.3686372 ]\n",
            " [ 1.02043406 -0.06426083]\n",
            " [-0.4809236  -0.18232393]\n",
            " [-0.4809236  -0.28070984]\n",
            " [-0.62970679 -0.06426083]\n",
            " [ 0.72286767  1.23443326]\n",
            " [ 0.57408448  0.03412509]\n",
            " [-0.41329488 -0.73328506]\n",
            " [ 1.84550448  1.68700848]\n",
            " [-1.08958211 -0.61522196]\n",
            " [ 0.64171321  1.23443326]\n",
            " [ 1.31800044  1.68700848]\n",
            " [ 0.41177555  0.2505741 ]\n",
            " [ 0.49293002  0.15218819]\n",
            " [ 1.16921725  1.23443326]\n",
            " [-0.94079892 -0.61522196]\n",
            " [-1.00842764 -0.94973407]\n",
            " [-0.18335722  0.2505741 ]\n",
            " [-0.4809236   0.15218819]\n",
            " [-0.71086126 -0.61522196]\n",
            " [-0.85964445 -1.04811999]\n",
            " [ 1.69672129  1.35249636]\n",
            " [ 1.5479381   1.01798425]\n",
            " [ 1.08806278  1.23443326]\n",
            " [ 0.26299236  0.2505741 ]\n",
            " [-1.00842764 -0.39877294]\n",
            " [ 0.93927959  0.80153523]\n",
            " [ 0.11420916 -0.61522196]\n",
            " [-1.00842764 -0.73328506]\n",
            " [-0.56207807 -0.28070984]\n",
            " [-1.30599403 -0.94973407]\n",
            " [-1.00842764 -1.04811999]\n",
            " [-0.71086126  0.03412509]\n",
            " [ 0.87165087 -0.06426083]\n",
            " [-0.10220275 -0.61522196]\n",
            " [-0.26451169  0.03412509]\n",
            " [-0.03457403 -0.39877294]\n",
            " [ 0.41177555  0.15218819]\n",
            " [ 0.41177555  0.2505741 ]\n",
            " [-1.30599403 -0.73328506]\n",
            " [-0.85964445 -0.28070984]\n",
            " [-1.15721083 -1.3826321 ]\n",
            " [ 0.93927959  1.35249636]\n",
            " [-0.94079892 -1.264569  ]\n",
            " [-1.98228126 -2.01230197]\n",
            " [ 0.93927959  1.01798425]\n",
            " [ 0.72286767  0.70314932]\n",
            " [-0.94079892 -2.01230197]\n",
            " [ 0.34414682  0.3686372 ]\n",
            " [ 0.57408448 -0.28070984]\n",
            " [ 1.92665895  0.80153523]\n",
            " [-1.38714849 -0.94973407]\n",
            " [-0.33214041 -0.61522196]\n",
            " [ 0.7904964   1.35249636]\n",
            " [ 1.16921725  1.01798425]\n",
            " [-1.30599403 -1.04811999]\n",
            " [ 0.64171321  1.01798425]\n",
            " [-0.85964445 -0.73328506]\n",
            " [-0.33214041 -0.49715886]\n",
            " [-0.18335722  0.3686372 ]\n",
            " [ 1.46678363  0.91959833]\n",
            " [ 1.31800044  1.23443326]\n",
            " [ 1.16921725  1.01798425]\n",
            " [-0.18335722  0.4867003 ]\n",
            " [ 1.61556682  1.01798425]\n",
            " [-0.41329488 -0.94973407]\n",
            " [ 1.69672129  1.78539439]\n",
            " [-0.41329488 -0.39877294]\n",
            " [-1.00842764 -1.3826321 ]\n",
            " [-1.38714849 -1.48101802]\n",
            " [ 0.04658044  0.58508622]\n",
            " [-1.15721083 -1.264569  ]\n",
            " [-0.56207807 -0.61522196]\n",
            " [ 0.49293002  0.70314932]\n",
            " [ 0.11420916 -0.06426083]\n",
            " [ 1.5479381   1.35249636]\n",
            " [-0.18335722  0.03412509]\n",
            " [ 0.49293002  0.70314932]\n",
            " [-0.4809236  -1.264569  ]\n",
            " [ 0.57408448  0.15218819]\n",
            " [ 0.11420916  0.91959833]\n",
            " [-0.18335722  0.15218819]\n",
            " [-0.33214041  0.15218819]\n",
            " [ 1.76435001  1.47055946]\n",
            " [-0.10220275  0.03412509]\n",
            " [ 0.04658044  0.58508622]\n",
            " [ 0.41177555  1.01798425]\n",
            " [-0.41329488 -0.49715886]\n",
            " [ 1.25037172  0.80153523]\n",
            " [-1.61708615 -1.59908112]\n",
            " [-0.33214041 -0.39877294]\n",
            " [-0.85964445 -0.94973407]\n",
            " [-0.4809236  -1.264569  ]\n",
            " [-2.06343573 -2.24842816]\n",
            " [ 1.31800044  1.23443326]\n",
            " [ 0.19536363  0.4867003 ]\n",
            " [ 0.64171321  1.01798425]\n",
            " [-0.62970679 -0.83167097]\n",
            " [ 0.04658044  0.3686372 ]\n",
            " [-1.08958211 -0.83167097]\n",
            " [ 0.49293002  0.80153523]\n",
            " [ 0.34414682  0.3686372 ]\n",
            " [-1.08958211 -1.264569  ]\n",
            " [-0.4809236  -0.39877294]\n",
            " [-1.61708615 -1.16618309]\n",
            " [ 0.19536363  0.3686372 ]\n",
            " [ 0.11420916 -0.39877294]\n",
            " [ 0.87165087  0.3686372 ]\n",
            " [-0.62970679  0.2505741 ]\n",
            " [ 1.5479381   1.78539439]\n",
            " [ 0.49293002  0.91959833]\n",
            " [-0.85964445 -1.3826321 ]\n",
            " [ 1.16921725  0.91959833]\n",
            " [-1.61708615 -1.59908112]\n",
            " [ 1.92665895  1.35249636]\n",
            " [ 0.34414682  1.56894538]\n",
            " [-1.00842764 -1.3826321 ]\n",
            " [-0.71086126 -0.06426083]\n",
            " [ 0.04658044  0.3686372 ]\n",
            " [ 0.11420916  1.35249636]\n",
            " [-0.41329488 -0.61522196]\n",
            " [ 1.92665895  1.13604735]\n",
            " [-0.71086126 -0.94973407]\n",
            " [-0.71086126 -0.83167097]\n",
            " [ 0.72286767  0.15218819]\n",
            " [-1.38714849 -2.36649126]\n",
            " [ 2.14307086  1.35249636]\n",
            " [-0.94079892 -0.28070984]\n",
            " [-1.00842764 -0.61522196]\n",
            " [ 0.41177555  1.13604735]\n",
            " [ 0.34414682  0.58508622]\n",
            " [ 0.93927959  1.47055946]\n",
            " [-0.10220275 -0.06426083]\n",
            " [-0.77848998 -0.61522196]\n",
            " [-0.4809236  -0.39877294]\n",
            " [-0.77848998  0.3686372 ]\n",
            " [ 0.57408448  1.01798425]\n",
            " [ 0.41177555  0.58508622]\n",
            " [-0.71086126 -0.18232393]\n",
            " [-1.45477722 -1.16618309]\n",
            " [ 0.72286767  0.15218819]\n",
            " [ 1.46678363  1.13604735]\n",
            " [ 0.93927959  0.58508622]\n",
            " [-0.4809236  -0.28070984]\n",
            " [-1.2383653  -0.83167097]\n",
            " [ 1.31800044  1.68700848]\n",
            " [-1.2383653  -1.48101802]\n",
            " [ 1.46678363  1.35249636]\n",
            " [-1.2383653  -1.04811999]\n",
            " [-0.18335722 -0.28070984]\n",
            " [ 1.5479381   1.13604735]\n",
            " [-1.53593168 -1.264569  ]\n",
            " [ 0.04658044 -0.06426083]\n",
            " [ 0.11420916  0.80153523]\n",
            " [-0.03457403 -0.61522196]\n",
            " [-1.15721083 -1.264569  ]\n",
            " [ 2.60294618  1.90345749]\n",
            " [-1.08958211 -1.3826321 ]\n",
            " [ 1.61556682  1.01798425]\n",
            " [-0.77848998 -0.39877294]\n",
            " [ 0.41177555  1.35249636]\n",
            " [-0.85964445 -0.39877294]\n",
            " [ 0.7904964   1.35249636]\n",
            " [-0.41329488 -0.18232393]\n",
            " [-0.4809236  -1.48101802]\n",
            " [ 0.49293002  0.91959833]\n",
            " [-0.4809236  -0.06426083]\n",
            " [-0.10220275  0.03412509]\n",
            " [ 1.5479381   0.70314932]\n",
            " [-0.4809236  -0.83167097]\n",
            " [ 1.61556682  1.78539439]\n",
            " [ 1.99428767  1.23443326]\n",
            " [-1.00842764 -0.83167097]\n",
            " [-0.85964445 -0.49715886]\n",
            " [-1.15721083 -1.264569  ]\n",
            " [-0.18335722 -0.94973407]\n",
            " [ 1.02043406  1.13604735]\n",
            " [ 1.99428767  1.13604735]\n",
            " [ 1.31800044  0.70314932]\n",
            " [ 0.41177555  0.91959833]\n",
            " [-0.4809236   0.3686372 ]\n",
            " [-1.30599403 -1.48101802]\n",
            " [ 0.19536363  0.91959833]\n",
            " [-0.62970679 -0.28070984]\n",
            " [ 1.99428767  1.68700848]\n",
            " [-1.15721083 -0.49715886]\n",
            " [-0.26451169  0.03412509]\n",
            " [ 0.26299236  0.4867003 ]\n",
            " [ 2.29185406  1.47055946]\n",
            " [ 0.19536363  0.3686372 ]\n",
            " [ 1.31800044  1.01798425]\n",
            " [-1.83349807 -2.15004225]\n",
            " [ 0.26299236  0.4867003 ]\n",
            " [-1.15721083 -0.94973407]\n",
            " [ 0.19536363  0.70314932]\n",
            " [-0.33214041  0.3686372 ]\n",
            " [ 0.04658044  0.4867003 ]\n",
            " [-0.62970679 -1.16618309]\n",
            " [-1.2383653  -1.81553013]\n",
            " [-0.94079892 -0.39877294]\n",
            " [ 0.41177555  0.58508622]\n",
            " [-0.56207807 -0.39877294]\n",
            " [-0.18335722  0.2505741 ]\n",
            " [ 0.57408448  0.91959833]\n",
            " [-0.77848998 -0.73328506]\n",
            " [-0.03457403  0.15218819]\n",
            " [ 1.16921725  0.58508622]\n",
            " [ 0.34414682  1.47055946]\n",
            " [-2.36100211 -2.15004225]\n",
            " [-0.18335722  0.4867003 ]\n",
            " [-0.94079892 -0.73328506]\n",
            " [-0.56207807 -0.18232393]\n",
            " [-1.08958211 -1.04811999]\n",
            " [ 0.64171321  0.80153523]\n",
            " [ 0.19536363  0.4867003 ]\n",
            " [-0.85964445 -0.39877294]\n",
            " [-0.85964445 -0.73328506]\n",
            " [-1.15721083 -0.83167097]\n",
            " [-0.94079892 -1.04811999]\n",
            " [ 1.25037172  1.56894538]\n",
            " [ 0.34414682 -0.06426083]\n",
            " [-1.45477722 -1.04811999]\n",
            " [ 1.02043406  0.58508622]\n",
            " [ 0.49293002  0.70314932]\n",
            " [-0.26451169 -0.18232393]\n",
            " [-0.94079892 -1.48101802]\n",
            " [ 0.49293002  0.3686372 ]\n",
            " [ 1.16921725  0.70314932]\n",
            " [-1.30599403 -0.94973407]\n",
            " [-0.56207807 -0.18232393]\n",
            " [-0.26451169  0.70314932]\n",
            " [-0.62970679 -0.49715886]\n",
            " [-0.62970679 -0.73328506]\n",
            " [ 0.26299236 -0.18232393]\n",
            " [ 1.25037172  1.35249636]\n",
            " [-0.85964445 -0.94973407]\n",
            " [-0.71086126 -0.06426083]\n",
            " [-1.2383653  -0.94973407]\n",
            " [ 0.34414682  0.58508622]\n",
            " [-0.03457403  0.70314932]\n",
            " [ 1.25037172  1.01798425]\n",
            " [-0.62970679 -0.18232393]\n",
            " [-0.77848998 -1.04811999]\n",
            " [ 0.19536363  0.3686372 ]\n",
            " [ 0.26299236  0.3686372 ]\n",
            " [ 0.57408448  0.70314932]\n",
            " [ 0.34414682  0.03412509]\n",
            " [ 1.5479381   1.01798425]\n",
            " [ 1.69672129  1.35249636]\n",
            " [ 0.87165087  0.3686372 ]\n",
            " [-0.62970679 -1.04811999]\n",
            " [-1.30599403 -1.71714422]\n",
            " [ 0.57408448 -0.06426083]\n",
            " [-0.56207807 -1.04811999]\n",
            " [ 0.87165087  1.01798425]\n",
            " [ 0.57408448  0.58508622]\n",
            " [ 1.69672129  1.23443326]\n",
            " [-0.26451169 -0.49715886]\n",
            " [-1.53593168 -1.81553013]\n",
            " [-0.71086126 -0.18232393]\n",
            " [ 1.16921725  1.47055946]\n",
            " [ 1.16921725  1.01798425]\n",
            " [ 1.25037172  1.56894538]\n",
            " [-0.10220275  0.4867003 ]\n",
            " [-0.71086126 -1.3826321 ]\n",
            " [-1.08958211 -0.39877294]\n",
            " [ 1.84550448  0.70314932]\n",
            " [ 0.34414682  1.01798425]\n",
            " [ 1.69672129  1.56894538]\n",
            " [ 1.31800044  0.80153523]\n",
            " [-1.15721083 -0.94973407]\n",
            " [-0.56207807 -0.39877294]\n",
            " [ 0.72286767  1.35249636]\n",
            " [-0.4809236  -0.73328506]\n",
            " [ 1.16921725  0.4867003 ]\n",
            " [ 0.49293002  0.70314932]\n",
            " [-0.77848998 -0.73328506]\n",
            " [ 0.41177555  1.01798425]\n",
            " [-0.18335722  0.80153523]\n",
            " [-0.26451169  0.70314932]\n",
            " [-0.33214041 -0.39877294]\n",
            " [ 1.99428767  1.47055946]\n",
            " [ 1.61556682  1.13604735]\n",
            " [ 1.39915491  0.2505741 ]\n",
            " [-0.10220275 -0.28070984]\n",
            " [-1.00842764 -1.04811999]\n",
            " [-0.77848998 -0.73328506]\n",
            " [ 0.11420916 -0.18232393]\n",
            " [ 0.87165087  0.3686372 ]\n",
            " [-1.30599403 -0.83167097]\n",
            " [ 0.87165087  0.80153523]\n",
            " [-0.33214041 -0.06426083]\n",
            " [ 0.04658044 -0.73328506]\n",
            " [-0.62970679 -0.18232393]\n",
            " [-0.10220275  0.3686372 ]\n",
            " [ 1.02043406  0.2505741 ]\n",
            " [-0.4809236  -0.28070984]\n",
            " [ 1.46678363  1.47055946]\n",
            " [-1.00842764 -0.83167097]\n",
            " [ 1.02043406  1.13604735]\n",
            " [ 1.69672129  1.23443326]\n",
            " [-0.56207807 -0.94973407]\n",
            " [-0.33214041  0.4867003 ]\n",
            " [ 1.08806278  0.58508622]\n",
            " [ 1.5479381   1.13604735]\n",
            " [-0.26451169  0.15218819]\n",
            " [ 0.7904964   1.35249636]\n",
            " [ 1.08806278  0.4867003 ]\n",
            " [-0.41329488  0.03412509]\n",
            " [ 1.08806278  1.01798425]\n",
            " [-0.94079892 -0.61522196]\n",
            " [-0.77848998 -1.04811999]\n",
            " [ 1.76435001  1.23443326]\n",
            " [-0.4809236  -0.83167097]\n",
            " [-0.62970679 -0.06426083]\n",
            " [-0.4809236  -0.06426083]\n",
            " [-0.18335722  0.15218819]\n",
            " [-0.26451169 -0.49715886]\n",
            " [-0.56207807 -0.61522196]\n",
            " [ 0.72286767  0.70314932]\n",
            " [-0.85964445 -1.16618309]\n",
            " [ 0.04658044  0.70314932]\n",
            " [ 0.64171321 -0.39877294]\n",
            " [-1.30599403 -1.48101802]\n",
            " [-0.03457403  0.70314932]\n",
            " [ 0.49293002  1.47055946]\n",
            " [-0.77848998  0.03412509]\n",
            " [ 1.5479381   1.01798425]\n",
            " [ 0.26299236 -0.94973407]\n",
            " [-0.41329488  0.2505741 ]\n",
            " [ 1.31800044  0.91959833]\n",
            " [ 1.02043406  0.91959833]\n",
            " [ 0.49293002  1.13604735]\n",
            " [-0.10220275  0.58508622]\n",
            " [ 0.93927959  0.3686372 ]\n",
            " [ 0.49293002  0.91959833]\n",
            " [-0.18335722  0.58508622]\n",
            " [ 0.64171321  1.23443326]\n",
            " [-0.33214041  0.4867003 ]\n",
            " [-2.06343573 -2.5632631 ]\n",
            " [ 2.37300852  1.78539439]\n",
            " [-0.62970679 -0.18232393]\n",
            " [-1.45477722 -2.22875098]\n",
            " [ 0.93927959  1.78539439]\n",
            " [-0.18335722  0.91959833]\n",
            " [-0.85964445 -0.28070984]\n",
            " [-0.33214041  0.03412509]\n",
            " [ 0.26299236  0.4867003 ]\n",
            " [-1.76586934 -2.13036507]\n",
            " [ 1.61556682  1.47055946]\n",
            " [-0.26451169 -0.28070984]\n",
            " [ 1.08806278  0.2505741 ]\n",
            " [ 0.57408448  0.70314932]\n",
            " [ 1.61556682  1.47055946]\n",
            " [-1.08958211 -0.39877294]\n",
            " [ 0.26299236  0.4867003 ]\n",
            " [ 1.16921725  1.01798425]\n",
            " [ 1.61556682  1.23443326]\n",
            " [ 0.49293002  0.15218819]\n",
            " [-0.85964445 -0.49715886]\n",
            " [-0.4809236  -0.18232393]\n",
            " [-0.33214041  0.2505741 ]\n",
            " [-0.71086126 -0.39877294]\n",
            " [-0.94079892 -1.79585295]]\n"
          ]
        }
      ]
    },
    {
      "cell_type": "code",
      "source": [
        "#memanggil function KNN"
      ],
      "metadata": {
        "id": "yS13YHLMYXoK"
      },
      "execution_count": null,
      "outputs": []
    },
    {
      "cell_type": "code",
      "source": [
        "from sklearn.neighbors import KNeighborsClassifier\n",
        "classifier = KNeighborsClassifier(n_neighbors=5,metric='minkowski', p=2)\n",
        "classifier.fit(x_train,y_train)"
      ],
      "metadata": {
        "colab": {
          "base_uri": "https://localhost:8080/",
          "height": 74
        },
        "id": "JQ6jWr2nYdGG",
        "outputId": "ae0dbc02-4b15-49cd-f4cc-27e4dae7cb39"
      },
      "execution_count": null,
      "outputs": [
        {
          "output_type": "execute_result",
          "data": {
            "text/plain": [
              "KNeighborsClassifier()"
            ],
            "text/html": [
              "<style>#sk-container-id-1 {color: black;background-color: white;}#sk-container-id-1 pre{padding: 0;}#sk-container-id-1 div.sk-toggleable {background-color: white;}#sk-container-id-1 label.sk-toggleable__label {cursor: pointer;display: block;width: 100%;margin-bottom: 0;padding: 0.3em;box-sizing: border-box;text-align: center;}#sk-container-id-1 label.sk-toggleable__label-arrow:before {content: \"▸\";float: left;margin-right: 0.25em;color: #696969;}#sk-container-id-1 label.sk-toggleable__label-arrow:hover:before {color: black;}#sk-container-id-1 div.sk-estimator:hover label.sk-toggleable__label-arrow:before {color: black;}#sk-container-id-1 div.sk-toggleable__content {max-height: 0;max-width: 0;overflow: hidden;text-align: left;background-color: #f0f8ff;}#sk-container-id-1 div.sk-toggleable__content pre {margin: 0.2em;color: black;border-radius: 0.25em;background-color: #f0f8ff;}#sk-container-id-1 input.sk-toggleable__control:checked~div.sk-toggleable__content {max-height: 200px;max-width: 100%;overflow: auto;}#sk-container-id-1 input.sk-toggleable__control:checked~label.sk-toggleable__label-arrow:before {content: \"▾\";}#sk-container-id-1 div.sk-estimator input.sk-toggleable__control:checked~label.sk-toggleable__label {background-color: #d4ebff;}#sk-container-id-1 div.sk-label input.sk-toggleable__control:checked~label.sk-toggleable__label {background-color: #d4ebff;}#sk-container-id-1 input.sk-hidden--visually {border: 0;clip: rect(1px 1px 1px 1px);clip: rect(1px, 1px, 1px, 1px);height: 1px;margin: -1px;overflow: hidden;padding: 0;position: absolute;width: 1px;}#sk-container-id-1 div.sk-estimator {font-family: monospace;background-color: #f0f8ff;border: 1px dotted black;border-radius: 0.25em;box-sizing: border-box;margin-bottom: 0.5em;}#sk-container-id-1 div.sk-estimator:hover {background-color: #d4ebff;}#sk-container-id-1 div.sk-parallel-item::after {content: \"\";width: 100%;border-bottom: 1px solid gray;flex-grow: 1;}#sk-container-id-1 div.sk-label:hover label.sk-toggleable__label {background-color: #d4ebff;}#sk-container-id-1 div.sk-serial::before {content: \"\";position: absolute;border-left: 1px solid gray;box-sizing: border-box;top: 0;bottom: 0;left: 50%;z-index: 0;}#sk-container-id-1 div.sk-serial {display: flex;flex-direction: column;align-items: center;background-color: white;padding-right: 0.2em;padding-left: 0.2em;position: relative;}#sk-container-id-1 div.sk-item {position: relative;z-index: 1;}#sk-container-id-1 div.sk-parallel {display: flex;align-items: stretch;justify-content: center;background-color: white;position: relative;}#sk-container-id-1 div.sk-item::before, #sk-container-id-1 div.sk-parallel-item::before {content: \"\";position: absolute;border-left: 1px solid gray;box-sizing: border-box;top: 0;bottom: 0;left: 50%;z-index: -1;}#sk-container-id-1 div.sk-parallel-item {display: flex;flex-direction: column;z-index: 1;position: relative;background-color: white;}#sk-container-id-1 div.sk-parallel-item:first-child::after {align-self: flex-end;width: 50%;}#sk-container-id-1 div.sk-parallel-item:last-child::after {align-self: flex-start;width: 50%;}#sk-container-id-1 div.sk-parallel-item:only-child::after {width: 0;}#sk-container-id-1 div.sk-dashed-wrapped {border: 1px dashed gray;margin: 0 0.4em 0.5em 0.4em;box-sizing: border-box;padding-bottom: 0.4em;background-color: white;}#sk-container-id-1 div.sk-label label {font-family: monospace;font-weight: bold;display: inline-block;line-height: 1.2em;}#sk-container-id-1 div.sk-label-container {text-align: center;}#sk-container-id-1 div.sk-container {/* jupyter's `normalize.less` sets `[hidden] { display: none; }` but bootstrap.min.css set `[hidden] { display: none !important; }` so we also need the `!important` here to be able to override the default hidden behavior on the sphinx rendered scikit-learn.org. See: https://github.com/scikit-learn/scikit-learn/issues/21755 */display: inline-block !important;position: relative;}#sk-container-id-1 div.sk-text-repr-fallback {display: none;}</style><div id=\"sk-container-id-1\" class=\"sk-top-container\"><div class=\"sk-text-repr-fallback\"><pre>KNeighborsClassifier()</pre><b>In a Jupyter environment, please rerun this cell to show the HTML representation or trust the notebook. <br />On GitHub, the HTML representation is unable to render, please try loading this page with nbviewer.org.</b></div><div class=\"sk-container\" hidden><div class=\"sk-item\"><div class=\"sk-estimator sk-toggleable\"><input class=\"sk-toggleable__control sk-hidden--visually\" id=\"sk-estimator-id-1\" type=\"checkbox\" checked><label for=\"sk-estimator-id-1\" class=\"sk-toggleable__label sk-toggleable__label-arrow\">KNeighborsClassifier</label><div class=\"sk-toggleable__content\"><pre>KNeighborsClassifier()</pre></div></div></div></div></div>"
            ]
          },
          "metadata": {},
          "execution_count": 47
        }
      ]
    },
    {
      "cell_type": "code",
      "source": [
        "#menentukan prediksi\n",
        "y_pred = classifier.predict(x_test)"
      ],
      "metadata": {
        "id": "JuVDMrovZRt_"
      },
      "execution_count": null,
      "outputs": []
    },
    {
      "cell_type": "code",
      "source": [
        "#evaluasi dan validasi"
      ],
      "metadata": {
        "id": "LJUkkXgzZebL"
      },
      "execution_count": null,
      "outputs": []
    },
    {
      "cell_type": "code",
      "source": [
        "from sklearn.metrics import confusion_matrix\n",
        "cm = confusion_matrix(y_test,y_pred)\n",
        "print(cm)"
      ],
      "metadata": {
        "colab": {
          "base_uri": "https://localhost:8080/"
        },
        "id": "axHfHhX7ZvFO",
        "outputId": "32fb072b-f39a-4875-bd0f-20aef4982ae8"
      },
      "execution_count": null,
      "outputs": [
        {
          "output_type": "stream",
          "name": "stdout",
          "text": [
            "[[  0   1   2   1   7]\n",
            " [  0   0  16   0  15]\n",
            " [  1   3 129   0  22]\n",
            " [  0   0   1   1   4]\n",
            " [  0   4  50   1 108]]\n"
          ]
        }
      ]
    },
    {
      "cell_type": "code",
      "source": [
        "from sklearn.metrics import classification_report\n",
        "akurasi = classification_report(y_test,y_pred)\n",
        "print(akurasi)"
      ],
      "metadata": {
        "colab": {
          "base_uri": "https://localhost:8080/"
        },
        "id": "QfgKdVP_aCg6",
        "outputId": "dc3258e7-644c-4eb1-be0a-8ae982ab7cb3"
      },
      "execution_count": null,
      "outputs": [
        {
          "output_type": "stream",
          "name": "stdout",
          "text": [
            "              precision    recall  f1-score   support\n",
            "\n",
            "     drizzle       0.00      0.00      0.00        11\n",
            "         fog       0.00      0.00      0.00        31\n",
            "        rain       0.65      0.83      0.73       155\n",
            "        snow       0.33      0.17      0.22         6\n",
            "         sun       0.69      0.66      0.68       163\n",
            "\n",
            "    accuracy                           0.65       366\n",
            "   macro avg       0.34      0.33      0.33       366\n",
            "weighted avg       0.59      0.65      0.61       366\n",
            "\n"
          ]
        }
      ]
    },
    {
      "cell_type": "code",
      "source": [
        "from sklearn.metrics import accuracy_score\n",
        "akurasi = accuracy_score(y_test,y_pred)\n",
        "print(\"Tingkat Akurasi :%d persen\"%(akurasi*100))"
      ],
      "metadata": {
        "colab": {
          "base_uri": "https://localhost:8080/"
        },
        "id": "xT3Gxq9GaCdO",
        "outputId": "231afff6-3c31-4a3d-d9fe-82829f0526f7"
      },
      "execution_count": null,
      "outputs": [
        {
          "output_type": "stream",
          "name": "stdout",
          "text": [
            "Tingkat Akurasi :65 persen\n"
          ]
        }
      ]
    },
    {
      "cell_type": "code",
      "source": [
        "#visualisasi data (grafik)"
      ],
      "metadata": {
        "id": "YihYUhwNaCae"
      },
      "execution_count": null,
      "outputs": []
    },
    {
      "cell_type": "code",
      "source": [
        "from matplotlib.colors import ListedColormap\n",
        "\n",
        "x_set, y_set = sc.inverse_transform(x_test), y_test\n",
        "x1, x2 = np.meshgrid(np.arange(start=x_set[:, 0].min() - 1, stop=x_set[:, 0].max() + 10, step=0.01),\n",
        "                     np.arange(start=x_set[:, 1].min() - 1, stop=x_set[:, 1].max() + 1000, step=0.01))\n",
        "plt.contourf(x1, x2, classifier.predict(sc.transform(np.array([x1.ravel(), x2.ravel()]).T).reshape(x1.shape)), alpha=0.75, cmap=ListedColormap(('red', 'green')))\n",
        "plt.xlim(x1.min(), x1.max())\n",
        "plt.ylim(x2.min(), x2.max())\n",
        "for i, j in enumerate(np.unique(y_set)):\n",
        "    plt.scatter(x_set[y_set == j, 0], x_set[y_set == j, 1], c=ListedColormap(('red', 'green'))(i), label=j)\n",
        "plt.title('Klasifikasi Data dengan K-Nearest Neighbor')\n",
        "plt.xlabel('Moisture')\n",
        "plt.ylabel('Temp')\n",
        "plt.legend()\n",
        "plt.show()"
      ],
      "metadata": {
        "id": "59PpN0EHat3T"
      },
      "execution_count": null,
      "outputs": []
    },
    {
      "cell_type": "markdown",
      "source": [
        "## **Evaluasi**"
      ],
      "metadata": {
        "id": "HWU9UghdIR4-"
      }
    },
    {
      "cell_type": "markdown",
      "source": [
        "8. Munculkan akurasi yang dihasilkan dari model yang anda gunakan."
      ],
      "metadata": {
        "id": "tvwUjePAJDAw"
      }
    },
    {
      "cell_type": "code",
      "source": [
        "#Tingkat Akurasi :65 persen"
      ],
      "metadata": {
        "id": "5_jFALRCraRK"
      },
      "execution_count": null,
      "outputs": []
    },
    {
      "cell_type": "markdown",
      "source": [
        "## **Esai**"
      ],
      "metadata": {
        "id": "0XMgE1UUeMiH"
      }
    },
    {
      "cell_type": "markdown",
      "source": [
        "9. Berikan kesimpulan dari project yang telah anda buat."
      ],
      "metadata": {
        "id": "UymYGonveaDR"
      }
    },
    {
      "cell_type": "markdown",
      "source": [
        "_Tulis **jawaban** no. 9 disini_\n",
        "\n",
        "Algoritma K-Nearest Neighbors (KNN) adalah salah satu algoritma klasifikasi dan regresi yang paling sederhana dan populer dalam pembelajaran mesin. Algoritma ini bekerja dengan cara menghitung jarak antara data yang akan diprediksi dengan data yang sudah ada dalam dataset, kemudian memilik K data terdekat untuk dijadikan acuan dalam menentukan label kelas dari data yang akan diprediksi.\n",
        "\n",
        "KNN juga digunakan untuk regresi, yaitu dengan menghitung rata-rata atau median dari K data terdekat sebagai prediksi nilai kontinu dari data yang akan diprediksi"
      ],
      "metadata": {
        "id": "mtANYv8Leha-"
      }
    },
    {
      "cell_type": "markdown",
      "source": [
        "10. Upload dan lampirkan link\n",
        "    - **Video** penjelasan berdurasi 10-15 menit mengenai project anda.\n",
        "    - **Repository Github** berisi file notebook (_.ipynb_) anda."
      ],
      "metadata": {
        "id": "SBely14pnEcY"
      }
    },
    {
      "cell_type": "code",
      "source": [
        "link_video = \"https://drive.google.com/file/d/11Tt8T92DwtxVarcextY_I_FYzV0JqnF-/view?usp=sharing\"\n",
        "link_github = \"https://github.com/Yosephineelisa/UTS-BENGKEL-KODING.git\""
      ],
      "metadata": {
        "id": "Zj0pbeGvnDkw"
      },
      "execution_count": null,
      "outputs": []
    }
  ]
}